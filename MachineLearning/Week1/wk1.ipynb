{
 "cells": [
  {
   "cell_type": "code",
   "execution_count": 339,
   "metadata": {},
   "outputs": [
    {
     "name": "stdout",
     "output_type": "stream",
     "text": [
      "   0  -75.058740108736\n",
      "0  1       -119.086428\n",
      "1  2       -124.886321\n",
      "2  3         10.276762\n",
      "3  4       -158.196535\n",
      "4  5         23.132151\n"
     ]
    }
   ],
   "source": [
    "import numpy as np\n",
    "import pandas as pd \n",
    "\n",
    "df = pd.read_csv(\"week1.csv\", comment='#')\n",
    "\n",
    "print(df.head())\n",
    "\n",
    "X = np.array(df.iloc[:,0])\n",
    "X = X.reshape(-1, 1)\n",
    "\n",
    "y = np.array(df.iloc[:,1])\n",
    "y = y.reshape(-1, 1)\n"
   ]
  },
  {
   "cell_type": "code",
   "execution_count": 340,
   "metadata": {},
   "outputs": [
    {
     "data": {
      "text/plain": [
       "<matplotlib.collections.PathCollection at 0x23b5c32c908>"
      ]
     },
     "execution_count": 340,
     "metadata": {},
     "output_type": "execute_result"
    },
    {
     "data": {
      "image/png": "[encoded data removed]",
      "text/plain": [
       "<Figure size 432x288 with 1 Axes>"
      ]
     },
     "metadata": {
      "needs_background": "light"
     },
     "output_type": "display_data"
    }
   ],
   "source": [
    "import matplotlib.pyplot as plt\n",
    "plt.scatter(X, y)"
   ]
  },
  {
   "cell_type": "code",
   "execution_count": null,
   "metadata": {},
   "outputs": [],
   "source": []
  },
  {
   "cell_type": "code",
   "execution_count": 341,
   "metadata": {},
   "outputs": [],
   "source": [
    "def normalise(array):\n",
    "    minValue = array[0]\n",
    "    maxValue = array[0]\n",
    "    sumValues = 0\n",
    "    numElements = len(array)\n",
    "    for x in array:\n",
    "        sumValues = sumValues + x\n",
    "        if x > maxValue:\n",
    "            maxValue = x\n",
    "        if x < minValue:\n",
    "            minValue = x\n",
    "    rangeValues = maxValue - minValue\n",
    "    normalisedArray = array.astype(\"double\")\n",
    "    for i in range(numElements):\n",
    "        normalisedValue = array[i] / rangeValues\n",
    "        normalisedArray[i] = normalisedValue\n",
    "    return normalisedArray, rangeValues"
   ]
  },
  {
   "cell_type": "code",
   "execution_count": null,
   "metadata": {},
   "outputs": [],
   "source": []
  },
  {
   "cell_type": "code",
   "execution_count": 342,
   "metadata": {},
   "outputs": [],
   "source": [
    "normY, rangeValuesY = normalise(y)\n",
    "normX, rangeValuesX = normalise(X)"
   ]
  },
  {
   "cell_type": "code",
   "execution_count": 329,
   "metadata": {},
   "outputs": [
    {
     "name": "stdout",
     "output_type": "stream",
     "text": [
      "933.46974174408\n",
      "111\n"
     ]
    }
   ],
   "source": [
    "print(rangeValuesY[0])\n",
    "print(rangeValuesX[0])"
   ]
  },
  {
   "cell_type": "code",
   "execution_count": 330,
   "metadata": {},
   "outputs": [
    {
     "data": {
      "text/plain": [
       "<matplotlib.collections.PathCollection at 0x23b5c175988>"
      ]
     },
     "execution_count": 330,
     "metadata": {},
     "output_type": "execute_result"
    },
    {
     "data": {
      "image/png": "[encoded data removed]",
      "text/plain": [
       "<Figure size 432x288 with 1 Axes>"
      ]
     },
     "metadata": {
      "needs_background": "light"
     },
     "output_type": "display_data"
    }
   ],
   "source": [
    "plt.scatter(normX, normY)"
   ]
  },
  {
   "cell_type": "code",
   "execution_count": null,
   "metadata": {},
   "outputs": [],
   "source": []
  },
  {
   "cell_type": "code",
   "execution_count": 343,
   "metadata": {},
   "outputs": [],
   "source": [
    "def gradientDescent(xs, ys, alpha=0.2, repititions=100):\n",
    "    theta0 = 0\n",
    "    theta1 = 0\n",
    "    yHat = lambda theta0, theta1, x: theta0 + theta1 * x\n",
    "    \n",
    "    m = len(xs)\n",
    "    for _ in range(repititions):\n",
    "        deltaCostTheta0 = 0\n",
    "        deltaCostTheta1 = 0\n",
    "        for i in range(m):\n",
    "            deltaCostTheta0 += (yHat(theta0, theta1, xs[i]) - ys[i])\n",
    "            deltaCostTheta1 += (yHat(theta0, theta1, xs[i]) - ys[i]) * xs[i]\n",
    "        deltaCostTheta0 = 2 * (deltaCostTheta0 / m)\n",
    "        deltaCostTheta1 = 2 * (deltaCostTheta1 / m)\n",
    "        theta0 += alpha * deltaCostTheta0 * -1\n",
    "        theta1 += alpha * deltaCostTheta1 * -1\n",
    "        \n",
    "    return (lambda x: yHat(theta0, theta1, x)), theta0, theta1"
   ]
  },
  {
   "cell_type": "code",
   "execution_count": 344,
   "metadata": {},
   "outputs": [],
   "source": [
    "yHat, theta0, theta1 = gradientDescent(normX, normY)\n",
    "#nonNormYHat, nonNormTheta0, nonNormTheta0 = gradientDescent(X, y)"
   ]
  },
  {
   "cell_type": "code",
   "execution_count": 199,
   "metadata": {},
   "outputs": [
    {
     "name": "stdout",
     "output_type": "stream",
     "text": [
      "theta0:  [-450.23503825]\n",
      "theta1:  [10.67983028]\n"
     ]
    }
   ],
   "source": []
  },
  {
   "cell_type": "code",
   "execution_count": 63,
   "metadata": {},
   "outputs": [],
   "source": []
  },
  {
   "cell_type": "code",
   "execution_count": 206,
   "metadata": {},
   "outputs": [],
   "source": []
  },
  {
   "cell_type": "code",
   "execution_count": 210,
   "metadata": {},
   "outputs": [],
   "source": []
  },
  {
   "cell_type": "code",
   "execution_count": 345,
   "metadata": {},
   "outputs": [
    {
     "data": {
      "text/plain": [
       "[<matplotlib.lines.Line2D at 0x23b5c38f988>,\n",
       " <matplotlib.lines.Line2D at 0x23b5c375b88>]"
      ]
     },
     "execution_count": 345,
     "metadata": {},
     "output_type": "execute_result"
    },
    {
     "data": {
      "image/png": "[encoded data removed]",
      "text/plain": [
       "<Figure size 432x288 with 1 Axes>"
      ]
     },
     "metadata": {
      "needs_background": "light"
     },
     "output_type": "display_data"
    }
   ],
   "source": [
    "deNormYHat = lambda t0, t1, x: t0 + t1 * x\n",
    "\n",
    "denormt0 = theta0 * rangeValuesY[0]\n",
    "denormt1 = theta1 * (rangeValuesY[0]/rangeValuesX[0])\n",
    "\n",
    "denormX = np.arange(1, 120)\n",
    "deNormPredY = denormt0 + denormt1 * denormX\n",
    "\n",
    "plt.plot(denormX, deNormPredY, 'r-', X, y, 'o')"
   ]
  },
  {
   "cell_type": "code",
   "execution_count": 346,
   "metadata": {},
   "outputs": [
    {
     "data": {
      "text/plain": [
       "[<matplotlib.lines.Line2D at 0x23b5c41fa88>,\n",
       " <matplotlib.lines.Line2D at 0x23b5c414808>]"
      ]
     },
     "execution_count": 346,
     "metadata": {},
     "output_type": "execute_result"
    },
    {
     "data": {
      "image/png": "[encoded data removed]",
      "text/plain": [
       "<Figure size 432x288 with 1 Axes>"
      ]
     },
     "metadata": {
      "needs_background": "light"
     },
     "output_type": "display_data"
    }
   ],
   "source": [
    "predX = np.arange(-0.2, 1.2, 0.1)\n",
    "predY = yHat(predX)\n",
    "plt.plot(predX, predY, 'r-', normX, normY, 'o')"
   ]
  },
  {
   "cell_type": "code",
   "execution_count": 347,
   "metadata": {},
   "outputs": [],
   "source": [
    "def gradientDescentCostFunc(xs, ys, alpha=0.2, repititions=100):\n",
    "    theta0 = 0\n",
    "    theta1 = 0\n",
    "    yHat = lambda theta0, theta1, x: theta0 + theta1 * x\n",
    "    ySquaredError = lambda yHat, y: (yHat - y) * (yHat - y)\n",
    "    \n",
    "    def meanSquaredError(xs, ys, theta0, theta1):\n",
    "        sumError=0 \n",
    "        for i in range(len(ys)): \n",
    "            sumError += ySquaredError(yHat(theta0, theta1, xs[i]), ys[i])\n",
    "        return sumError/len(ys)\n",
    "\n",
    "    errors = []\n",
    "\n",
    "    m = len(xs)\n",
    "    for _ in range(repititions):\n",
    "        deltaCostTheta0 = 0\n",
    "        deltaCostTheta1 = 0\n",
    "        for i in range(m):\n",
    "            deltaCostTheta0 += (yHat(theta0, theta1, xs[i]) - ys[i])\n",
    "            deltaCostTheta1 += (yHat(theta0, theta1, xs[i]) - ys[i]) * xs[i]\n",
    "        deltaCostTheta0 = 2 * (deltaCostTheta0 / m)\n",
    "        deltaCostTheta1 = 2 * (deltaCostTheta1 / m)\n",
    "        theta0 += alpha * deltaCostTheta0 * -1\n",
    "        theta1 += alpha * deltaCostTheta1 * -1\n",
    "        errors.append(meanSquaredError(xs, ys, theta0, theta1)[0])\n",
    "        \n",
    "    return errors"
   ]
  },
  {
   "cell_type": "code",
   "execution_count": 115,
   "metadata": {},
   "outputs": [],
   "source": []
  },
  {
   "cell_type": "code",
   "execution_count": null,
   "metadata": {},
   "outputs": [],
   "source": []
  },
  {
   "cell_type": "code",
   "execution_count": null,
   "metadata": {},
   "outputs": [],
   "source": []
  },
  {
   "cell_type": "code",
   "execution_count": 135,
   "metadata": {},
   "outputs": [],
   "source": []
  },
  {
   "cell_type": "code",
   "execution_count": 251,
   "metadata": {},
   "outputs": [
    {
     "data": {
      "text/plain": [
       "(array([996.10570144, 995.63470761, 995.40154386, 995.28471971,\n",
       "        995.22485146, 995.19290521, 995.17468316, 995.16324116,\n",
       "        995.15518184, 995.14884212, 995.14340704, 995.13847639,\n",
       "        995.13385282, 995.12943823, 995.12518307, 995.1210616 ,\n",
       "        995.11705974, 995.11316917, 995.10938442, 995.10570144]),\n",
       " 259.025811265863)"
      ]
     },
     "execution_count": 251,
     "metadata": {},
     "output_type": "execute_result"
    }
   ],
   "source": [
    "costOverTime = gradientDescentCostFunc(normX, normY, 0.2, 20)\n",
    "normalise(np.array(costOverTime))"
   ]
  },
  {
   "cell_type": "code",
   "execution_count": 277,
   "metadata": {},
   "outputs": [
    {
     "data": {
      "text/plain": [
       "[<matplotlib.lines.Line2D at 0x23b3a1bbf08>,\n",
       " <matplotlib.lines.Line2D at 0x23b3a1b6488>,\n",
       " <matplotlib.lines.Line2D at 0x23b3a1c2048>]"
      ]
     },
     "execution_count": 277,
     "metadata": {},
     "output_type": "execute_result"
    },
    {
     "data": {
      "image/png": "[encoded data removed]",
      "text/plain": [
       "<Figure size 432x288 with 1 Axes>"
      ]
     },
     "metadata": {
      "needs_background": "light"
     },
     "output_type": "display_data"
    }
   ],
   "source": [
    "iterations = 100\n",
    "iterI = np.arange(0, iterations)\n",
    "\n",
    "costOverTime001 = gradientDescentCostFunc(normX, normY, 0.001, iterations)\n",
    "costOverTime01 = gradientDescentCostFunc(normX, normY, 0.01, iterations)\n",
    "costOverTime1 = gradientDescentCostFunc(normX, normY, 0.1, iterations)\n",
    "\n",
    "plt.plot(iterI, costOverTime001, 'r-', iterI, costOverTime01, 'b-', iterI, costOverTime1, 'g-')"
   ]
  },
  {
   "cell_type": "code",
   "execution_count": 272,
   "metadata": {},
   "outputs": [
    {
     "data": {
      "text/plain": [
       "0.005931339975058579"
      ]
     },
     "execution_count": 272,
     "metadata": {},
     "output_type": "execute_result"
    }
   ],
   "source": []
  },
  {
   "cell_type": "code",
   "execution_count": 275,
   "metadata": {},
   "outputs": [
    {
     "name": "stdout",
     "output_type": "stream",
     "text": [
      "0.005931339975058579\n",
      "0.19544912878662732\n"
     ]
    }
   ],
   "source": [
    "mean = 0\n",
    "for i in range(len(normY)):\n",
    "    mean += normY[i]\n",
    "mean = mean / len(normY)\n",
    "\n",
    "ySquaredError = lambda yHat, y: (yHat - y) * (yHat - y)\n",
    "\n",
    "sumError=0 \n",
    "for j in range(len(normY)): \n",
    "    sumError += ySquaredError(mean, normY[i])\n",
    "meanSquaredError = sumError/len(normY)\n",
    "\n",
    "print(costOverTime1[len(costOverTime1)-1])\n",
    "print(meanSquaredError[0])"
   ]
  },
  {
   "cell_type": "code",
   "execution_count": 348,
   "metadata": {},
   "outputs": [],
   "source": [
    "yHat = lambda theta0, theta1, x: theta0 + theta1 * x\n",
    "ySquaredError = lambda yHat, y: (yHat - y) * (yHat - y)\n",
    "\n",
    "def meanSquaredError(xs, ys, theta0, theta1):\n",
    "    sumError=0 \n",
    "    for i in range(len(ys)): \n",
    "        sumError += ySquaredError(yHat(theta0, theta1, xs[i]), ys[i])\n",
    "    return sumError/len(ys)"
   ]
  },
  {
   "cell_type": "code",
   "execution_count": 349,
   "metadata": {},
   "outputs": [
    {
     "name": "stdout",
     "output_type": "stream",
     "text": [
      "[-57.96094699] [[-6.94290427]]\n"
     ]
    }
   ],
   "source": [
    "from sklearn.linear_model import LinearRegression\n",
    "model = LinearRegression().fit(X, y)\n",
    "print(model.intercept_, model.coef_)\n",
    "skt0 = model.intercept_[0]\n",
    "skt1 = model.coef_[0][0]"
   ]
  },
  {
   "cell_type": "code",
   "execution_count": 350,
   "metadata": {},
   "outputs": [
    {
     "name": "stdout",
     "output_type": "stream",
     "text": [
      "[-79.00039074]\n",
      "[-6.59525294]\n"
     ]
    }
   ],
   "source": [
    "#print(theta0, theta1)\n",
    "print(denormt0)\n",
    "print(denormt1)"
   ]
  },
  {
   "cell_type": "code",
   "execution_count": 353,
   "metadata": {},
   "outputs": [
    {
     "data": {
      "text/plain": [
       "array([5168.36655771])"
      ]
     },
     "execution_count": 353,
     "metadata": {},
     "output_type": "execute_result"
    }
   ],
   "source": [
    "meanSquaredError(X, y, skt0, skt1)"
   ]
  },
  {
   "cell_type": "code",
   "execution_count": 354,
   "metadata": {},
   "outputs": [
    {
     "data": {
      "text/plain": [
       "array([5296.64899471])"
      ]
     },
     "execution_count": 354,
     "metadata": {},
     "output_type": "execute_result"
    }
   ],
   "source": [
    "meanSquaredError(X, y, denormt0, denormt1)"
   ]
  },
  {
   "cell_type": "code",
   "execution_count": null,
   "metadata": {},
   "outputs": [],
   "source": []
  }
 ],
 "metadata": {
  "kernelspec": {
   "display_name": "Python 3",
   "language": "python",
   "name": "python3"
  },
  "language_info": {
   "codemirror_mode": {
    "name": "ipython",
    "version": 3
   },
   "file_extension": ".py",
   "mimetype": "text/x-python",
   "name": "python",
   "nbconvert_exporter": "python",
   "pygments_lexer": "ipython3",
   "version": "3.8.5"
  }
 },
 "nbformat": 4,
 "nbformat_minor": 4
}
