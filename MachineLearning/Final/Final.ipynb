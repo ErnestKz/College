{
 "cells": [
  {
   "cell_type": "markdown",
   "id": "essential-jacket",
   "metadata": {},
   "source": [
    "# Final Assignment - Machine Learning - 25th January \n",
    "## Ernests Kuznecovs\n",
    "## 17332791    \n",
    "   \n",
    "# Question 1 "
   ]
  },
  {
   "cell_type": "code",
   "execution_count": 114,
   "id": "severe-attempt",
   "metadata": {},
   "outputs": [],
   "source": [
    "import json_lines\n",
    "X=[]; y=[]; z=[]\n",
    "with open ('reviews_291.jl', 'rb' ) as f:\n",
    "  for item in json_lines.reader(f):\n",
    "    X.append ( item [ 'text' ] )\n",
    "    y.append ( item [ 'voted_up' ] )\n",
    "    z.append ( item [ 'early_access' ] )"
   ]
  },
  {
   "cell_type": "code",
   "execution_count": 115,
   "id": "capital-medline",
   "metadata": {},
   "outputs": [],
   "source": [
    "import pandas as pd\n",
    "import numpy as np\n",
    "\n",
    "text = pd.DataFrame(X)\n",
    "votes = pd.DataFrame(y)\n",
    "early = pd.DataFrame(z)"
   ]
  },
  {
   "cell_type": "markdown",
   "id": "manual-ivory",
   "metadata": {},
   "source": [
    "Used the approach of using external API provided by Google to detect the language. "
   ]
  },
  {
   "cell_type": "markdown",
   "id": "professional-identification",
   "metadata": {},
   "source": [
    "Decided to only use the text marked as english. But therefore only be able to predict english text."
   ]
  },
  {
   "cell_type": "markdown",
   "id": "considerable-evanescence",
   "metadata": {},
   "source": [
    "Could also translated the other languages into english."
   ]
  },
  {
   "cell_type": "markdown",
   "id": "happy-sister",
   "metadata": {},
   "source": [
    "Could alternatively tried to group each language together based on the which reviews contained common words and  created a graph with connections. In the graph, a word would be a vertex, and an edge would indicate that one of the words in the document in which that word came from, also appeared in a different document. Words with high number of edges and that were highly connected to each other would be considered the same language."
   ]
  },
  {
   "cell_type": "markdown",
   "id": "overall-integration",
   "metadata": {},
   "source": [
    "On each language was isolated, a separate model could be used for each language, using a simple tokenizer that split on spaces for example."
   ]
  },
  {
   "cell_type": "markdown",
   "id": "vietnamese-fight",
   "metadata": {},
   "source": [
    "Could remove the very low frequency words to prevent overfitting. And could remove high frequency words to that don't help to discriminate much."
   ]
  },
  {
   "cell_type": "markdown",
   "id": "delayed-watch",
   "metadata": {},
   "source": [
    "If using a linear model, then could also discard words like \"not\" as a linear model wouldn't make much use of the word if it appeard the same times in both true and negative reviews. If using n-grams then words that negate would be a help as \"not good\" would be an example of a possible token used in the one-hot encoding."
   ]
  },
  {
   "cell_type": "code",
   "execution_count": 167,
   "id": "consistent-teach",
   "metadata": {},
   "outputs": [],
   "source": [
    "import os\n",
    "os.environ['GOOGLE_APPLICATION_CREDENTIALS'] = '/home/ek/College/MachineLearning/Final/translate-302719-4cc72fc518f9.json'\n",
    "USER = os.getenv('GOOGLE_APPLICATION_CREDENTIALS')\n",
    "def detect_language(text):\n",
    "    from google.cloud import translate_v2 as translate\n",
    "    translate_client = translate.Client()\n",
    "    result = translate_client.detect_language(text)\n",
    "    return [text, result[\"language\"], result[\"confidence\"]]"
   ]
  },
  {
   "cell_type": "markdown",
   "id": "greek-training",
   "metadata": {},
   "source": [
    "Below is the code that retrieves the indices of the english documents in the set of documents. I had retrieved the first batch of language detections, (which I pickled) before realising that the reviews were sorted by their vote value."
   ]
  },
  {
   "cell_type": "code",
   "execution_count": null,
   "id": "necessary-county",
   "metadata": {},
   "outputs": [],
   "source": [
    "negative_text = text.iloc[2500:4500, 0]\n",
    "lang = []\n",
    "for sentence in negative_text:\n",
    "  lang.append(detect_language(sentence))"
   ]
  },
  {
   "cell_type": "code",
   "execution_count": 173,
   "id": "adjusted-startup",
   "metadata": {},
   "outputs": [],
   "source": [
    "lang_copy = lang;\n",
    "en_i = []\n",
    "for i in range(len(lang_copy)):\n",
    "  if lang_copy[i][1] == 'en':\n",
    "    en_i.append(i+2500)\n",
    "    \n",
    "import pickle\n",
    "a = np.array(pickle.load(open(\"en_i.pkl\", \"rb\")))"
   ]
  },
  {
   "cell_type": "code",
   "execution_count": 180,
   "id": "published-reggae",
   "metadata": {},
   "outputs": [],
   "source": [
    "xneg = text.iloc[en_i, 0]\n",
    "yneg = votes.iloc[en_i, 0]\n",
    "x = text.iloc[a, 0]\n",
    "y = votes.iloc[a, 0]\n",
    "x = x.to_numpy()\n",
    "y = y.to_numpy()\n",
    "x2 = xneg.to_numpy()\n",
    "y2 = yneg.to_numpy()\n",
    "bigX = np.concatenate([x, x2])\n",
    "bigY = np.concatenate([y, y2])\n",
    "bigX.size"
   ]
  },
  {
   "cell_type": "markdown",
   "id": "fifty-vanilla",
   "metadata": {},
   "source": [
    "## (i)"
   ]
  },
  {
   "cell_type": "code",
   "execution_count": null,
   "id": "unlimited-protocol",
   "metadata": {},
   "outputs": [],
   "source": [
    "from sklearn.feature_extraction.text import TfidfVectorizer\n",
    "from sklearn.model_selection import train_test_split\n",
    "from sklearn.metrics.pairwise import cosine_distances\n",
    "from sklearn.neighbors import KNeighborsRegressor"
   ]
  },
  {
   "cell_type": "markdown",
   "id": "responsible-reasoning",
   "metadata": {},
   "source": [
    "All the words in the documents are tokenized. And a TfidfVectorizer is used to add more importance to words that appear in a single document a lot but appear at least once in overall documents infrequently."
   ]
  },
  {
   "cell_type": "markdown",
   "id": "prepared-regular",
   "metadata": {},
   "source": [
    "This is to put more attention to words that might convey a specific sentiment."
   ]
  },
  {
   "cell_type": "markdown",
   "id": "advised-lawyer",
   "metadata": {},
   "source": [
    "This gives a vector of each unique word, and each word is the tfidf value for that word in that document."
   ]
  },
  {
   "cell_type": "markdown",
   "id": "champion-romania",
   "metadata": {},
   "source": [
    "This is in contrast with the approach of just counting all the words that appear in the review. i.e component wise summation of one hot encodings, where each word originally represented by a one hot encoding of the single vector, but to represent the whole review, the different vectors are added up."
   ]
  },
  {
   "cell_type": "markdown",
   "id": "friendly-dress",
   "metadata": {},
   "source": [
    "KNN is used with cosine distance. "
   ]
  },
  {
   "cell_type": "markdown",
   "id": "three-interface",
   "metadata": {},
   "source": [
    "Cosine distance considers vectors that share the exact same words as close together. Mathematically, given two vectors with features x1, x2, x3, and z1, z2, z3 ..., cosine distance calculates the dot product of the vectors: x1 * z1 + x2 * z2 + x3 * z3 ... and uses that as the distance. \n",
    "\n",
    "And with bag of words and tfidf this means if a word doesnt appear then the value will be 0 for that feature (which represents the token/word)."
   ]
  },
  {
   "cell_type": "code",
   "execution_count": 202,
   "id": "virtual-album",
   "metadata": {},
   "outputs": [],
   "source": [
    "vectorizer = TfidfVectorizer(stop_words ='english', max_df=0.2)\n",
    "X = vectorizer.fit_transform(bigX)\n",
    "indices = np.arange(bigX.size)                               \n",
    "train, test = train_test_split(indices, test_size=0.05)"
   ]
  },
  {
   "cell_type": "code",
   "execution_count": 217,
   "id": "limiting-brick",
   "metadata": {},
   "outputs": [],
   "source": [
    "nbrs = KNeighborsRegressor(n_neighbors=3,metric=cosine_distances).fit(X[train], bigY[train])\n",
    "nbrs8 = KNeighborsRegressor(n_neighbors=8,metric=cosine_distances).fit(X[train], bigY[train])"
   ]
  },
  {
   "cell_type": "code",
   "execution_count": 209,
   "id": "super-supply",
   "metadata": {},
   "outputs": [],
   "source": [
    "pred = nbrs.predict(X[test])"
   ]
  },
  {
   "cell_type": "code",
   "execution_count": 218,
   "id": "different-adobe",
   "metadata": {},
   "outputs": [],
   "source": [
    "pred8 = nbrs8.predict(X[test])"
   ]
  },
  {
   "cell_type": "code",
   "execution_count": 215,
   "id": "eligible-wyoming",
   "metadata": {},
   "outputs": [],
   "source": [
    "tfPred = np.array([True if x>0.5 else False for x in pred])\n",
    "tfPred8 = np.array([True if x>0.5 else False for x in pred8])"
   ]
  },
  {
   "cell_type": "markdown",
   "id": "minor-brunswick",
   "metadata": {},
   "source": [
    "Takes a long time to predict test inputs as theres one feature for every unique word in the set of documents. And kNN goes through every feature, for every vector of messages."
   ]
  },
  {
   "cell_type": "markdown",
   "id": "tamil-server",
   "metadata": {},
   "source": [
    "A way to reduce the number of words would be through stemming, cutting off the end of words.   \n",
    "Or even lametization which uses knowledge of the language."
   ]
  },
  {
   "cell_type": "markdown",
   "id": "brutal-holocaust",
   "metadata": {},
   "source": [
    "Could use ntlk library for more advanced tokenization."
   ]
  },
  {
   "cell_type": "code",
   "execution_count": 227,
   "id": "universal-investment",
   "metadata": {
    "scrolled": true
   },
   "outputs": [
    {
     "name": "stdout",
     "output_type": "stream",
     "text": [
      "K = 3\n",
      " [[34 21]\n",
      " [ 5 39]] \n",
      "\n",
      "K = 8\n",
      " [[45 10]\n",
      " [17 27]]\n"
     ]
    }
   ],
   "source": [
    "from sklearn.metrics import confusion_matrix\n",
    "print(\"K = 3\\n\",confusion_matrix(bigY[test], tfPred), \"\\n\")\n",
    "print(\"K = 8\\n\",confusion_matrix(bigY[test], tfPred8))"
   ]
  },
  {
   "cell_type": "markdown",
   "id": "cubic-vietnam",
   "metadata": {},
   "source": [
    "\n",
    "```\n",
    "[[True  Negatives     False Positives]\n",
    " [False Negatives     True  Positives]]\n",
    "\n",
    "```"
   ]
  },
  {
   "cell_type": "markdown",
   "id": "adverse-austria",
   "metadata": {},
   "source": [
    "Here we see that the predicitons aren't completely random. We see that k = 3 performs better, although creating more False Positives."
   ]
  },
  {
   "cell_type": "markdown",
   "id": "union-lottery",
   "metadata": {},
   "source": [
    "## (ii)"
   ]
  },
  {
   "cell_type": "markdown",
   "id": "pressing-internship",
   "metadata": {},
   "source": [
    "The process is repeated for the eary access prediction."
   ]
  },
  {
   "cell_type": "code",
   "execution_count": 228,
   "id": "chemical-things",
   "metadata": {},
   "outputs": [
    {
     "data": {
      "text/plain": [
       "array([   1,    5,    6, ..., 4491, 4492, 4495])"
      ]
     },
     "execution_count": 228,
     "metadata": {},
     "output_type": "execute_result"
    }
   ],
   "source": [
    "eng_indices = np.concatenate([a, en_i])"
   ]
  },
  {
   "cell_type": "code",
   "execution_count": 229,
   "id": "gothic-glasgow",
   "metadata": {},
   "outputs": [],
   "source": [
    "yearly = early.iloc[eng_indices, 0].to_numpy()"
   ]
  },
  {
   "cell_type": "code",
   "execution_count": 231,
   "id": "olive-problem",
   "metadata": {},
   "outputs": [],
   "source": [
    "nbrs = KNeighborsRegressor(n_neighbors=3,metric=cosine_distances).fit(X[train], yearly[train])\n",
    "nbrs8 = KNeighborsRegressor(n_neighbors=8,metric=cosine_distances).fit(X[train], yearly[train])"
   ]
  },
  {
   "cell_type": "code",
   "execution_count": 232,
   "id": "decent-saver",
   "metadata": {},
   "outputs": [],
   "source": [
    "pred = nbrs.predict(X[test])"
   ]
  },
  {
   "cell_type": "code",
   "execution_count": 233,
   "id": "arranged-toilet",
   "metadata": {},
   "outputs": [],
   "source": [
    "tfPred = np.array([True if x>0.5 else False for x in pred])"
   ]
  },
  {
   "cell_type": "code",
   "execution_count": 234,
   "id": "arbitrary-stadium",
   "metadata": {},
   "outputs": [
    {
     "name": "stdout",
     "output_type": "stream",
     "text": [
      "K = 3\n",
      " [[51  4]\n",
      " [43  1]] \n",
      "\n"
     ]
    }
   ],
   "source": [
    "print(\"K = 3\\n\",confusion_matrix(bigY[test], tfPred), \"\\n\")"
   ]
  },
  {
   "cell_type": "markdown",
   "id": "needed-facing",
   "metadata": {},
   "source": [
    "The kNN classifier with the current tokenization and word prioritization stragetgy fails to predict."
   ]
  },
  {
   "cell_type": "markdown",
   "id": "massive-blame",
   "metadata": {},
   "source": [
    "This could be because there are very little words that could capture discretely capture the idea of the game being early access.   \n",
    "\n",
    "Perhaps a few keyword would do denote that it's early access but the knn model would have a hard time prioritizing those words as there are many other words in relation, and therefore noise."
   ]
  },
  {
   "attachments": {
    "image-2.png": {
     "image/png": "[encoded data removed]"
    },
    "image.png": {
     "image/png": "[encoded data removed]"
    }
   },
   "cell_type": "markdown",
   "id": "serial-hearts",
   "metadata": {},
   "source": [
    "## Question 2 \n",
    "### (i)\n",
    "\n",
    "Under fitting is a machine learning model lacks the dimensions to fit a trend. If the data is following a quadratic trend, but the model only uses the linear featurers, then the model is underfiitting.\n",
    "\n",
    "This can happen when there aren't high enough dimension features in a linear regression model to be able to follow the trend.\n",
    "\n",
    "Another way this can happen is if the model uses an L1 penalty which has the effect of setting the non important feature parameters to zero, if the cost of the L1 penalty is too high, then it will turn off the useful higher order parameters which will result in under fitting.\n",
    "\n",
    "In the image below, the plane represents the predictions y at inputs x1 and x2. The plane is linear while the data is following a curve.\n",
    "\n",
    "![image.png](attachment:image.png)\n",
    "Here is where it fit to the curve a bit better.\n",
    "![image-2.png](attachment:image-2.png)\n",
    "\n",
    "Over fitting is when a machine learning model believes that there exist trends in higher power polynomails. This machine learning model fits to the noise of the data set.\n",
    "\n",
    "This can happen when in the feature engineering phase and choosing to use higher order polynomials that don't contribute to the actual trend of the data. \n",
    "   \n",
    "Another example where this can happen is when a kNN uses a small number for the number of neighbours it \n",
    "considers and therefore if an input lands beside a noisey data point, then the input will be affect a lot by that noise. Since when k is larger, it reduces the effect of the immediate noise.\n"
   ]
  },
  {
   "cell_type": "markdown",
   "id": "educated-phoenix",
   "metadata": {},
   "source": [
    "### (ii)\n",
    "Assuming we want to get the mean, and variation of the mean squared error of our model gathered over the N folds.\n",
    "```\n",
    "given numFolds, and data(X1, X2, ... and Y), Xs columns of inputs, Y column of output, model\n",
    "\n",
    "meanSquaredErrors = []\n",
    "testSize = data.size / numFolds \n",
    "i from 0 to numFolds-1:\n",
    "   foldIndices = [(i * testSize) ... ((i+1) * testSize)]\n",
    "   foldData    = data[foldIndices]\n",
    "   trainData   = data[ (0...dataSize) NOT foldIndices ]\n",
    "     pred = model.fit(trainData[Xs], trainData[Y]).predict(foldData[Xs])\n",
    "     meanSquaredError = mse(pred, foldData[Y])\n",
    "     meanSquaredErrors.append(meanSquaredError)\n",
    "return mean(meanSquaredErrors), var(meanSquaredErrors)\n",
    "```"
   ]
  },
  {
   "cell_type": "markdown",
   "id": "royal-cartoon",
   "metadata": {},
   "source": [
    "### (iii)\n",
    "K-fold lets us most importantly determine if the model is over fitting.   \n",
    "\n",
    "When a model is overfitting, it is essentially just fitting to the noise of the dataset.  \n",
    "\n",
    "If we take subsets of the data and train the model that likes to overfit to things on each of the subsets, then the model will vary in what it's parameters will be, and therefore its predictions.    \n",
    "\n",
    "Knowing that the variance of the mean squared error of the over fitting model will be higher than a non over-fitting model, we can distinguish directly from that which model is overfitting.   \n",
    "\n",
    "We can plot MSE against a some parameter that might induce overfitting (such as C of the L1 penalty) and also have vertical error bars (the variance).   \n",
    "  \n",
    "We do K-fold for each value of C and we plot the results.   \n",
    "  \n",
    "From here we can see the point at which the model begins to overfit by seeing where the error bars begin to get bigger.   \n",
    "  \n",
    "We can then choose the C just before it begins to overfit, which is the sweet spot as that is the point it's also not underfitting since we have chosen the point just before overfitting.\n"
   ]
  },
  {
   "cell_type": "markdown",
   "id": "waiting-greece",
   "metadata": {},
   "source": [
    "### (iv) \n",
    "#### Logistic Regression:  Pros\n",
    "Once a logistic regression model is trained, it is just a single set of parameters being multiplied by their corresponding input which is fast.   \n",
    "\n",
    "Can give you a \n",
    "\n",
    "\n",
    "#### Logistic Regression:  Cons\n",
    "Have to feature enginner to fit to curves. Requires a bit more insight on the nature of the data.\n",
    "\n",
    "\n",
    "#### kNN classifier:  Pros\n",
    "Can use a kernel to get a behaviour of a Logistic Regressor on a set of neighbours.  \n",
    "\n",
    "Have design descision on 3 steps: choosing distance function, choosing K, how to map training data points to a prediction: majority voting, average, weighted combination.  \n",
    "\n",
    "Good for large datasets which as it makes predictions directly from the dataset.   \n",
    "  \n",
    "Don't have to feature engineer to have higher polynomial features.\n",
    "\n",
    "#### kNN classifier:  Cons\n",
    "When the number of features is large for a kNN model, then using it to predict takes a long time as it has \n",
    "to do a computation for each feature for every data point that the kNN is checking against. Have to be more thoughtful on process of testing which hyperparameters will work.\n",
    "\n",
    "If not using a regression, then cannot predict trends when the input goes beyond the range of the training set.\n",
    "   \n"
   ]
  },
  {
   "cell_type": "markdown",
   "id": "spiritual-traveler",
   "metadata": {},
   "source": [
    "### (v)\n",
    "One way kNN can give bad prediciton is from over fitting from choice of parameters:\n",
    "- When using small K, kNN will only consider small number of neighbours which increases the chance of being influneced by outliers more. \n",
    "- If using gaussian weights, and using large value for sigma, then the rate at which it dismisses further neighbours for the output is increased, giving it more attention to close neighbours, which could lead to overfitting if the there is an isolated piece of data and also happens to be outliers.  \n",
    "\n",
    "Another way is lack of data:\n",
    "- If using a small amount of data, then even when sigman and k are the most appropriate, it will only give \n",
    "  reasonable answer when a prediciton is located wihtin a cluster of data, otherwise it will be noise since the closest piece of data could be far away (therefore not accurate to the current input) and if a data point is close, then the likelihood of it being a single data point is high and therefore is more succeptible to that data points noise.\n",
    "- If the kNN is not kernelised and if the input is outside of the range of training data, then the model will pick the closest points which will be the same k points the further and further away the input goes and therefore will predict the same output past the range of training data.\n",
    "  "
   ]
  }
 ],
 "metadata": {
  "kernelspec": {
   "display_name": "Python 3",
   "language": "python",
   "name": "python3"
  },
  "language_info": {
   "codemirror_mode": {
    "name": "ipython",
    "version": 3
   },
   "file_extension": ".py",
   "mimetype": "text/x-python",
   "name": "python",
   "nbconvert_exporter": "python",
   "pygments_lexer": "ipython3",
   "version": "3.8.7"
  }
 },
 "nbformat": 4,
 "nbformat_minor": 5
}
