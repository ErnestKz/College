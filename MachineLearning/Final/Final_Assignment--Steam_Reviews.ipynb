{
 "cells": [
  {
   "cell_type": "code",
   "execution_count": 1,
   "id": "fewer-courtesy",
   "metadata": {
    "collapsed": false
   },
   "outputs": [],
   "source": [
    "import json_lines\n",
    "X=[]; y=[]; z=[]\n",
    "with open ('reviews_291.jl', 'rb' ) as f:\n",
    "  for item in json_lines.reader(f):\n",
    "    X.append ( item [ 'text' ] )\n",
    "    y.append ( item [ 'voted_up' ] )\n",
    "    z.append ( item [ 'early_access' ] )"
   ]
  },
  {
   "cell_type": "code",
   "execution_count": 3,
   "id": "threaded-proof",
   "metadata": {
    "collapsed": false
   },
   "outputs": [
    {
     "name": "stdout",
     "output_type": "stream",
     "text": [
      "                                                      0\n",
      "3268  This game started so good now the developers a...\n",
      "4727  Thank you, SEGA: I remembered why I've been fe...\n",
      "3449  j'aimai bien ce jeu mais lÃ  ils se font lourd...\n",
      "2865  Crashes frequently on Windows 10. The jokes an...\n",
      "4021  Siempre me gustaron los survival offline simpl...\n",
      "         0\n",
      "2308  True\n",
      "          0\n",
      "3379  False\n"
     ]
    }
   ],
   "source": [
    "import pandas as pd\n",
    "import numpy as np\n",
    "\n",
    "text = pd.DataFrame(X)\n",
    "votes = pd.DataFrame(y)\n",
    "early = pd.DataFrame(z)\n",
    "print(text.sample(5))\n",
    "print(votes.sample())\n",
    "print(early.sample())"
   ]
  },
  {
   "cell_type": "markdown",
   "id": "forbidden-colon",
   "metadata": {
    "collapsed": false
   },
   "source": [
    "Upon first inspection it seems that the reviews consist of \n",
    "predominantly english sentences.   \n",
    "\n",
    "There are also a considerable number of French, German, and Spanish reviews.   \n",
    "And there are also reviews that solely contain symbols. Upon encoding these symbols \n",
    "to UTF-8, they turned out to be characters of the cyrillic alphabet. __\n",
    "\n",
    "Going to use bag of words."
   ]
  }
 ],
 "metadata": {
  "kernelspec": {
   "argv": [
    "python",
    "-m",
    "ipykernel_launcher",
    "-f",
    "{connection_file}"
   ],
   "display_name": "Python 3",
   "env": null,
   "interrupt_mode": "signal",
   "language": "python",
   "metadata": null,
   "name": "python3"
  },
  "language_info": {
   "codemirror_mode": {
    "name": "ipython",
    "version": 3
   },
   "file_extension": ".py",
   "mimetype": "text/x-python",
   "name": "python",
   "nbconvert_exporter": "python",
   "pygments_lexer": "ipython3",
   "version": "3.8.7"
  },
  "name": "Final_Assignment--Steam_Reviews.ipynb"
 },
 "nbformat": 4,
 "nbformat_minor": 5
}
