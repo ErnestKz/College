{
 "cells": [
  {
   "cell_type": "code",
   "execution_count": 2,
   "id": "cooperative-livestock",
   "metadata": {
    "collapsed": false
   },
   "outputs": [],
   "source": [
    "import json_lines\n",
    "X=[]; y=[]; z=[]\n",
    "with open ('reviews_291.jl', 'rb' ) as f:\n",
    "  for item in json_lines.reader(f):\n",
    "    X.append ( item [ 'text' ] )\n",
    "    y.append ( item [ 'voted_up' ] )\n",
    "    z.append ( item [ 'early_access' ] )"
   ]
  },
  {
   "cell_type": "code",
   "execution_count": 4,
   "id": "usual-destruction",
   "metadata": {
    "collapsed": false
   },
   "outputs": [
    {
     "name": "stdout",
     "output_type": "stream",
     "text": [
      "                                                      0\n",
      "0     Pase muchas horas jugando a lo pendejo con mis...\n",
      "1                            Most relaxing game ever!..\n",
      "2     Um Max Payne de visÃ£o lateral! Jogabilidade d...\n",
      "3     Rekabet iÃ§eren oyunlardan sÄ±kÄ±ldÄ±nÄ±zmÄ± i...\n",
      "4                                                 10/10\n",
      "...                                                 ...\n",
      "4995  Se rodasse eu poderia opinar, mas como nem exe...\n",
      "4996  Ð”Ñ€ÐµÑÐ½Ñ, Ñ…ÑƒÐ¶Ðµ Ð±Ñ‹Ñ‚ÑŒ Ð½Ðµ Ð¼Ð¾Ð¶ÐµÑ...\n",
      "4997                            Ñ…ÑƒÐ¹Ð½Ñ ÑÑÐ°Ð½Ð°Ñ\n",
      "4998  I wouldn't recommend the game until they fix i...\n",
      "4999                       Only brought for summer sale\n",
      "\n",
      "[5000 rows x 1 columns]\n",
      "          0\n",
      "0      True\n",
      "1      True\n",
      "2      True\n",
      "3      True\n",
      "4      True\n",
      "...     ...\n",
      "4995  False\n",
      "4996  False\n",
      "4997  False\n",
      "4998  False\n",
      "4999  False\n",
      "\n",
      "[5000 rows x 1 columns]\n",
      "          0\n",
      "0     False\n",
      "1     False\n",
      "2     False\n",
      "3     False\n",
      "4     False\n",
      "...     ...\n",
      "4995  False\n",
      "4996  False\n",
      "4997  False\n",
      "4998  False\n",
      "4999  False\n",
      "\n",
      "[5000 rows x 1 columns]\n"
     ]
    }
   ],
   "source": [
    "import pandas as pd\n",
    "import numpy as np\n",
    "\n",
    "text = pd.DataFrame(X)\n",
    "votes = pd.DataFrame(y)\n",
    "early = pd.DataFrame(z)\n",
    "print(text)\n",
    "print(votes)\n",
    "print(early)"
   ]
  },
  {
   "cell_type": "markdown",
   "id": "accessible-riding",
   "metadata": {
    "collapsed": false
   },
   "source": [
    "hello \n",
    "everyone"
   ]
  }
 ],
 "metadata": {
  "kernelspec": {
   "argv": [
    "python",
    "-m",
    "ipykernel_launcher",
    "-f",
    "{connection_file}"
   ],
   "display_name": "Python 3",
   "env": null,
   "interrupt_mode": "signal",
   "language": "python",
   "metadata": null,
   "name": "python3"
  },
  "language_info": {
   "codemirror_mode": {
    "name": "ipython",
    "version": 3
   },
   "file_extension": ".py",
   "mimetype": "text/x-python",
   "name": "python",
   "nbconvert_exporter": "python",
   "pygments_lexer": "ipython3",
   "version": "3.8.7"
  },
  "name": "Final_Assignment--Steam_Reviews.ipynb"
 },
 "nbformat": 4,
 "nbformat_minor": 5
}
