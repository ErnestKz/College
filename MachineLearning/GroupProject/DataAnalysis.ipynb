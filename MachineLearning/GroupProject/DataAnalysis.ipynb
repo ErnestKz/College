{
 "cells": [
  {
   "cell_type": "code",
   "execution_count": 64,
   "metadata": {},
   "outputs": [],
   "source": [
    "import numpy as np\n",
    "import pandas as pd\n",
    "import matplotlib.pyplot as plt "
   ]
  },
  {
   "cell_type": "code",
   "execution_count": 65,
   "metadata": {},
   "outputs": [],
   "source": [
    "df = pd.read_csv(\"./dataset/listings.csv\")\n",
    "df['host_response_rate'] = df['host_response_rate'].str.rstrip('%').astype('float') / 100.0\n",
    "df['host_acceptance_rate'] = df['host_acceptance_rate'].str.rstrip('%').astype('float') / 100.0"
   ]
  },
  {
   "cell_type": "code",
   "execution_count": 66,
   "metadata": {},
   "outputs": [],
   "source": [
    "columns = [\n",
    "    \"review_scores_value\",\n",
    "    \"number_of_reviews\",\n",
    "    \"review_scores_rating\",\n",
    "    \"host_response_rate\",\n",
    "    \"host_acceptance_rate\",\n",
    "    \"review_scores_accuracy\",\n",
    "    \"review_scores_cleanliness\",\n",
    "    \"review_scores_checkin\",\n",
    "    \"host_is_superhost\",\n",
    "   #  \"host_since\",\n",
    "]\n"
   ]
  },
  {
   "cell_type": "code",
   "execution_count": 67,
   "metadata": {},
   "outputs": [],
   "source": [
    "X = df[columns]\n",
    "X = X.dropna()"
   ]
  },
  {
   "cell_type": "code",
   "execution_count": 68,
   "metadata": {},
   "outputs": [],
   "source": [
    "X = X.sort_values(by=['host_is_superhost'])[-(946+946):]"
   ]
  },
  {
   "cell_type": "code",
   "execution_count": 69,
   "metadata": {},
   "outputs": [
    {
     "data": {
      "text/html": [
       "<div>\n",
       "<style scoped>\n",
       "    .dataframe tbody tr th:only-of-type {\n",
       "        vertical-align: middle;\n",
       "    }\n",
       "\n",
       "    .dataframe tbody tr th {\n",
       "        vertical-align: top;\n",
       "    }\n",
       "\n",
       "    .dataframe thead th {\n",
       "        text-align: right;\n",
       "    }\n",
       "</style>\n",
       "<table border=\"1\" class=\"dataframe\">\n",
       "  <thead>\n",
       "    <tr style=\"text-align: right;\">\n",
       "      <th></th>\n",
       "      <th>review_scores_value</th>\n",
       "      <th>number_of_reviews</th>\n",
       "      <th>review_scores_rating</th>\n",
       "      <th>host_response_rate</th>\n",
       "      <th>host_acceptance_rate</th>\n",
       "      <th>review_scores_accuracy</th>\n",
       "      <th>review_scores_cleanliness</th>\n",
       "      <th>review_scores_checkin</th>\n",
       "      <th>host_is_superhost</th>\n",
       "    </tr>\n",
       "  </thead>\n",
       "  <tbody>\n",
       "    <tr>\n",
       "      <th>7601</th>\n",
       "      <td>10.0</td>\n",
       "      <td>7</td>\n",
       "      <td>100.0</td>\n",
       "      <td>1.00</td>\n",
       "      <td>1.00</td>\n",
       "      <td>10.0</td>\n",
       "      <td>10.0</td>\n",
       "      <td>10.0</td>\n",
       "      <td>f</td>\n",
       "    </tr>\n",
       "    <tr>\n",
       "      <th>7602</th>\n",
       "      <td>10.0</td>\n",
       "      <td>4</td>\n",
       "      <td>100.0</td>\n",
       "      <td>1.00</td>\n",
       "      <td>0.98</td>\n",
       "      <td>10.0</td>\n",
       "      <td>10.0</td>\n",
       "      <td>10.0</td>\n",
       "      <td>f</td>\n",
       "    </tr>\n",
       "    <tr>\n",
       "      <th>7683</th>\n",
       "      <td>10.0</td>\n",
       "      <td>3</td>\n",
       "      <td>100.0</td>\n",
       "      <td>0.90</td>\n",
       "      <td>1.00</td>\n",
       "      <td>10.0</td>\n",
       "      <td>10.0</td>\n",
       "      <td>10.0</td>\n",
       "      <td>f</td>\n",
       "    </tr>\n",
       "    <tr>\n",
       "      <th>7682</th>\n",
       "      <td>10.0</td>\n",
       "      <td>1</td>\n",
       "      <td>100.0</td>\n",
       "      <td>0.75</td>\n",
       "      <td>0.73</td>\n",
       "      <td>10.0</td>\n",
       "      <td>10.0</td>\n",
       "      <td>10.0</td>\n",
       "      <td>f</td>\n",
       "    </tr>\n",
       "    <tr>\n",
       "      <th>7681</th>\n",
       "      <td>10.0</td>\n",
       "      <td>1</td>\n",
       "      <td>100.0</td>\n",
       "      <td>1.00</td>\n",
       "      <td>0.33</td>\n",
       "      <td>10.0</td>\n",
       "      <td>10.0</td>\n",
       "      <td>10.0</td>\n",
       "      <td>f</td>\n",
       "    </tr>\n",
       "    <tr>\n",
       "      <th>...</th>\n",
       "      <td>...</td>\n",
       "      <td>...</td>\n",
       "      <td>...</td>\n",
       "      <td>...</td>\n",
       "      <td>...</td>\n",
       "      <td>...</td>\n",
       "      <td>...</td>\n",
       "      <td>...</td>\n",
       "      <td>...</td>\n",
       "    </tr>\n",
       "    <tr>\n",
       "      <th>2021</th>\n",
       "      <td>10.0</td>\n",
       "      <td>114</td>\n",
       "      <td>99.0</td>\n",
       "      <td>1.00</td>\n",
       "      <td>0.78</td>\n",
       "      <td>10.0</td>\n",
       "      <td>10.0</td>\n",
       "      <td>10.0</td>\n",
       "      <td>t</td>\n",
       "    </tr>\n",
       "    <tr>\n",
       "      <th>5420</th>\n",
       "      <td>10.0</td>\n",
       "      <td>18</td>\n",
       "      <td>99.0</td>\n",
       "      <td>1.00</td>\n",
       "      <td>1.00</td>\n",
       "      <td>10.0</td>\n",
       "      <td>10.0</td>\n",
       "      <td>10.0</td>\n",
       "      <td>t</td>\n",
       "    </tr>\n",
       "    <tr>\n",
       "      <th>5419</th>\n",
       "      <td>10.0</td>\n",
       "      <td>7</td>\n",
       "      <td>100.0</td>\n",
       "      <td>0.67</td>\n",
       "      <td>1.00</td>\n",
       "      <td>10.0</td>\n",
       "      <td>10.0</td>\n",
       "      <td>10.0</td>\n",
       "      <td>t</td>\n",
       "    </tr>\n",
       "    <tr>\n",
       "      <th>5411</th>\n",
       "      <td>10.0</td>\n",
       "      <td>32</td>\n",
       "      <td>98.0</td>\n",
       "      <td>1.00</td>\n",
       "      <td>0.94</td>\n",
       "      <td>10.0</td>\n",
       "      <td>10.0</td>\n",
       "      <td>10.0</td>\n",
       "      <td>t</td>\n",
       "    </tr>\n",
       "    <tr>\n",
       "      <th>0</th>\n",
       "      <td>10.0</td>\n",
       "      <td>227</td>\n",
       "      <td>95.0</td>\n",
       "      <td>1.00</td>\n",
       "      <td>1.00</td>\n",
       "      <td>10.0</td>\n",
       "      <td>10.0</td>\n",
       "      <td>10.0</td>\n",
       "      <td>t</td>\n",
       "    </tr>\n",
       "  </tbody>\n",
       "</table>\n",
       "<p>1892 rows × 9 columns</p>\n",
       "</div>"
      ],
      "text/plain": [
       "      review_scores_value  number_of_reviews  review_scores_rating  \\\n",
       "7601                 10.0                  7                 100.0   \n",
       "7602                 10.0                  4                 100.0   \n",
       "7683                 10.0                  3                 100.0   \n",
       "7682                 10.0                  1                 100.0   \n",
       "7681                 10.0                  1                 100.0   \n",
       "...                   ...                ...                   ...   \n",
       "2021                 10.0                114                  99.0   \n",
       "5420                 10.0                 18                  99.0   \n",
       "5419                 10.0                  7                 100.0   \n",
       "5411                 10.0                 32                  98.0   \n",
       "0                    10.0                227                  95.0   \n",
       "\n",
       "      host_response_rate  host_acceptance_rate  review_scores_accuracy  \\\n",
       "7601                1.00                  1.00                    10.0   \n",
       "7602                1.00                  0.98                    10.0   \n",
       "7683                0.90                  1.00                    10.0   \n",
       "7682                0.75                  0.73                    10.0   \n",
       "7681                1.00                  0.33                    10.0   \n",
       "...                  ...                   ...                     ...   \n",
       "2021                1.00                  0.78                    10.0   \n",
       "5420                1.00                  1.00                    10.0   \n",
       "5419                0.67                  1.00                    10.0   \n",
       "5411                1.00                  0.94                    10.0   \n",
       "0                   1.00                  1.00                    10.0   \n",
       "\n",
       "      review_scores_cleanliness  review_scores_checkin host_is_superhost  \n",
       "7601                       10.0                   10.0                 f  \n",
       "7602                       10.0                   10.0                 f  \n",
       "7683                       10.0                   10.0                 f  \n",
       "7682                       10.0                   10.0                 f  \n",
       "7681                       10.0                   10.0                 f  \n",
       "...                         ...                    ...               ...  \n",
       "2021                       10.0                   10.0                 t  \n",
       "5420                       10.0                   10.0                 t  \n",
       "5419                       10.0                   10.0                 t  \n",
       "5411                       10.0                   10.0                 t  \n",
       "0                          10.0                   10.0                 t  \n",
       "\n",
       "[1892 rows x 9 columns]"
      ]
     },
     "execution_count": 69,
     "metadata": {},
     "output_type": "execute_result"
    }
   ],
   "source": [
    "X"
   ]
  },
  {
   "cell_type": "code",
   "execution_count": 70,
   "metadata": {},
   "outputs": [],
   "source": [
    "\n",
    "y = X[\"host_is_superhost\"]\n",
    "y = y.to_numpy()\n",
    "tf = lambda t: 1 if t == 't' else 0;\n",
    "y = np.array([tf(xi) for xi in y])\n",
    "\n",
    "X = X.drop(\"host_is_superhost\", axis=1)"
   ]
  },
  {
   "cell_type": "code",
   "execution_count": 71,
   "metadata": {},
   "outputs": [
    {
     "data": {
      "text/plain": [
       "946"
      ]
     },
     "execution_count": 71,
     "metadata": {},
     "output_type": "execute_result"
    }
   ],
   "source": [
    "y.sum()"
   ]
  },
  {
   "cell_type": "code",
   "execution_count": 72,
   "metadata": {},
   "outputs": [
    {
     "data": {
      "text/html": [
       "<div>\n",
       "<style scoped>\n",
       "    .dataframe tbody tr th:only-of-type {\n",
       "        vertical-align: middle;\n",
       "    }\n",
       "\n",
       "    .dataframe tbody tr th {\n",
       "        vertical-align: top;\n",
       "    }\n",
       "\n",
       "    .dataframe thead th {\n",
       "        text-align: right;\n",
       "    }\n",
       "</style>\n",
       "<table border=\"1\" class=\"dataframe\">\n",
       "  <thead>\n",
       "    <tr style=\"text-align: right;\">\n",
       "      <th></th>\n",
       "      <th>review_scores_value</th>\n",
       "      <th>number_of_reviews</th>\n",
       "      <th>review_scores_rating</th>\n",
       "      <th>host_response_rate</th>\n",
       "      <th>host_acceptance_rate</th>\n",
       "      <th>review_scores_accuracy</th>\n",
       "      <th>review_scores_cleanliness</th>\n",
       "      <th>review_scores_checkin</th>\n",
       "    </tr>\n",
       "  </thead>\n",
       "  <tbody>\n",
       "    <tr>\n",
       "      <th>7601</th>\n",
       "      <td>10.0</td>\n",
       "      <td>7</td>\n",
       "      <td>100.0</td>\n",
       "      <td>1.00</td>\n",
       "      <td>1.00</td>\n",
       "      <td>10.0</td>\n",
       "      <td>10.0</td>\n",
       "      <td>10.0</td>\n",
       "    </tr>\n",
       "    <tr>\n",
       "      <th>7602</th>\n",
       "      <td>10.0</td>\n",
       "      <td>4</td>\n",
       "      <td>100.0</td>\n",
       "      <td>1.00</td>\n",
       "      <td>0.98</td>\n",
       "      <td>10.0</td>\n",
       "      <td>10.0</td>\n",
       "      <td>10.0</td>\n",
       "    </tr>\n",
       "    <tr>\n",
       "      <th>7683</th>\n",
       "      <td>10.0</td>\n",
       "      <td>3</td>\n",
       "      <td>100.0</td>\n",
       "      <td>0.90</td>\n",
       "      <td>1.00</td>\n",
       "      <td>10.0</td>\n",
       "      <td>10.0</td>\n",
       "      <td>10.0</td>\n",
       "    </tr>\n",
       "    <tr>\n",
       "      <th>7682</th>\n",
       "      <td>10.0</td>\n",
       "      <td>1</td>\n",
       "      <td>100.0</td>\n",
       "      <td>0.75</td>\n",
       "      <td>0.73</td>\n",
       "      <td>10.0</td>\n",
       "      <td>10.0</td>\n",
       "      <td>10.0</td>\n",
       "    </tr>\n",
       "    <tr>\n",
       "      <th>7681</th>\n",
       "      <td>10.0</td>\n",
       "      <td>1</td>\n",
       "      <td>100.0</td>\n",
       "      <td>1.00</td>\n",
       "      <td>0.33</td>\n",
       "      <td>10.0</td>\n",
       "      <td>10.0</td>\n",
       "      <td>10.0</td>\n",
       "    </tr>\n",
       "    <tr>\n",
       "      <th>...</th>\n",
       "      <td>...</td>\n",
       "      <td>...</td>\n",
       "      <td>...</td>\n",
       "      <td>...</td>\n",
       "      <td>...</td>\n",
       "      <td>...</td>\n",
       "      <td>...</td>\n",
       "      <td>...</td>\n",
       "    </tr>\n",
       "    <tr>\n",
       "      <th>2021</th>\n",
       "      <td>10.0</td>\n",
       "      <td>114</td>\n",
       "      <td>99.0</td>\n",
       "      <td>1.00</td>\n",
       "      <td>0.78</td>\n",
       "      <td>10.0</td>\n",
       "      <td>10.0</td>\n",
       "      <td>10.0</td>\n",
       "    </tr>\n",
       "    <tr>\n",
       "      <th>5420</th>\n",
       "      <td>10.0</td>\n",
       "      <td>18</td>\n",
       "      <td>99.0</td>\n",
       "      <td>1.00</td>\n",
       "      <td>1.00</td>\n",
       "      <td>10.0</td>\n",
       "      <td>10.0</td>\n",
       "      <td>10.0</td>\n",
       "    </tr>\n",
       "    <tr>\n",
       "      <th>5419</th>\n",
       "      <td>10.0</td>\n",
       "      <td>7</td>\n",
       "      <td>100.0</td>\n",
       "      <td>0.67</td>\n",
       "      <td>1.00</td>\n",
       "      <td>10.0</td>\n",
       "      <td>10.0</td>\n",
       "      <td>10.0</td>\n",
       "    </tr>\n",
       "    <tr>\n",
       "      <th>5411</th>\n",
       "      <td>10.0</td>\n",
       "      <td>32</td>\n",
       "      <td>98.0</td>\n",
       "      <td>1.00</td>\n",
       "      <td>0.94</td>\n",
       "      <td>10.0</td>\n",
       "      <td>10.0</td>\n",
       "      <td>10.0</td>\n",
       "    </tr>\n",
       "    <tr>\n",
       "      <th>0</th>\n",
       "      <td>10.0</td>\n",
       "      <td>227</td>\n",
       "      <td>95.0</td>\n",
       "      <td>1.00</td>\n",
       "      <td>1.00</td>\n",
       "      <td>10.0</td>\n",
       "      <td>10.0</td>\n",
       "      <td>10.0</td>\n",
       "    </tr>\n",
       "  </tbody>\n",
       "</table>\n",
       "<p>1892 rows × 8 columns</p>\n",
       "</div>"
      ],
      "text/plain": [
       "      review_scores_value  number_of_reviews  review_scores_rating  \\\n",
       "7601                 10.0                  7                 100.0   \n",
       "7602                 10.0                  4                 100.0   \n",
       "7683                 10.0                  3                 100.0   \n",
       "7682                 10.0                  1                 100.0   \n",
       "7681                 10.0                  1                 100.0   \n",
       "...                   ...                ...                   ...   \n",
       "2021                 10.0                114                  99.0   \n",
       "5420                 10.0                 18                  99.0   \n",
       "5419                 10.0                  7                 100.0   \n",
       "5411                 10.0                 32                  98.0   \n",
       "0                    10.0                227                  95.0   \n",
       "\n",
       "      host_response_rate  host_acceptance_rate  review_scores_accuracy  \\\n",
       "7601                1.00                  1.00                    10.0   \n",
       "7602                1.00                  0.98                    10.0   \n",
       "7683                0.90                  1.00                    10.0   \n",
       "7682                0.75                  0.73                    10.0   \n",
       "7681                1.00                  0.33                    10.0   \n",
       "...                  ...                   ...                     ...   \n",
       "2021                1.00                  0.78                    10.0   \n",
       "5420                1.00                  1.00                    10.0   \n",
       "5419                0.67                  1.00                    10.0   \n",
       "5411                1.00                  0.94                    10.0   \n",
       "0                   1.00                  1.00                    10.0   \n",
       "\n",
       "      review_scores_cleanliness  review_scores_checkin  \n",
       "7601                       10.0                   10.0  \n",
       "7602                       10.0                   10.0  \n",
       "7683                       10.0                   10.0  \n",
       "7682                       10.0                   10.0  \n",
       "7681                       10.0                   10.0  \n",
       "...                         ...                    ...  \n",
       "2021                       10.0                   10.0  \n",
       "5420                       10.0                   10.0  \n",
       "5419                       10.0                   10.0  \n",
       "5411                       10.0                   10.0  \n",
       "0                          10.0                   10.0  \n",
       "\n",
       "[1892 rows x 8 columns]"
      ]
     },
     "execution_count": 72,
     "metadata": {},
     "output_type": "execute_result"
    }
   ],
   "source": [
    "X"
   ]
  },
  {
   "cell_type": "code",
   "execution_count": 80,
   "metadata": {},
   "outputs": [],
   "source": [
    "from sklearn.model_selection import train_test_split\n",
    "from sklearn.preprocessing import PolynomialFeatures\n",
    "\n",
    "X, X_test, y, y_test = train_test_split(X, y, test_size=0.33, random_state=42)\n",
    "Xpoly = PolynomialFeatures(2).fit_transform(X)\n",
    "Xpoly_test = PolynomialFeatures(2).fit_transform(X_test)\n",
    "\n",
    "from sklearn.linear_model import LogisticRegression\n",
    "modelLogReg = LogisticRegression(penalty='l1', solver='liblinear', C=4, max_iter=1000).fit(Xpoly, y)"
   ]
  },
  {
   "cell_type": "markdown",
   "metadata": {},
   "source": [
    "Top left: True Negatives.   \n",
    "Bottom left: False Negatives   \n",
    "\n",
    "Top right: False Positives   \n",
    "Bottom right: True Positives"
   ]
  },
  {
   "cell_type": "code",
   "execution_count": 81,
   "metadata": {},
   "outputs": [
    {
     "name": "stdout",
     "output_type": "stream",
     "text": [
      "[[154  57]\n",
      " [ 39 169]]\n"
     ]
    }
   ],
   "source": [
    "from sklearn.metrics import confusion_matrix\n",
    "print(confusion_matrix(y_test, modelLogReg.predict(Xpoly_test)))"
   ]
  },
  {
   "cell_type": "code",
   "execution_count": 75,
   "metadata": {},
   "outputs": [
    {
     "name": "stdout",
     "output_type": "stream",
     "text": [
      "[[475 471]\n",
      " [468 478]]\n"
     ]
    }
   ],
   "source": [
    "f = lambda x: 0 if x < 0.5 else 1\n",
    "baselineYpred = [f(y) for y in np.random.rand(y.shape[0])]\n",
    "cm = confusion_matrix(y, baselineYpred)\n",
    "print(cm)"
   ]
  },
  {
   "cell_type": "code",
   "execution_count": 76,
   "metadata": {},
   "outputs": [
    {
     "data": {
      "text/plain": [
       "<matplotlib.legend.Legend at 0x1282e1390>"
      ]
     },
     "execution_count": 76,
     "metadata": {},
     "output_type": "execute_result"
    },
    {
     "data": {
      "image/png": "[encoded data removed]",
      "text/plain": [
       "<Figure size 432x288 with 1 Axes>"
      ]
     },
     "metadata": {
      "needs_background": "light"
     },
     "output_type": "display_data"
    }
   ],
   "source": [
    "from sklearn.metrics import roc_curve\n",
    "fpr, tpr, _ = roc_curve(y, modelLogReg.decision_function(X))\n",
    "plt.plot(fpr, tpr, label=\"LogReg\")\n",
    "\n",
    "fpr = cm[0,1] / (cm[0,0]+ cm[0,1]) # false positive rate = FP/ TN + FP\n",
    "tpr = cm[1,1] / (cm[1,1]+ cm[1,0]) # true positive rate = TP / TP + FN\n",
    "plt.scatter(fpr, tpr, label=\"baseline\")\n",
    "\n",
    "plt.xlabel(\"False Positive Rate\")\n",
    "plt.ylabel(\"True Positive Rate\")\n",
    "plt.legend()"
   ]
  },
  {
   "cell_type": "code",
   "execution_count": 77,
   "metadata": {},
   "outputs": [
    {
     "name": "stderr",
     "output_type": "stream",
     "text": [
      "/Users/ek/.pyenv/versions/3.7.6/lib/python3.7/site-packages/sklearn/linear_model/_logistic.py:764: ConvergenceWarning: lbfgs failed to converge (status=1):\n",
      "STOP: TOTAL NO. of ITERATIONS REACHED LIMIT.\n",
      "\n",
      "Increase the number of iterations (max_iter) or scale the data as shown in:\n",
      "    https://scikit-learn.org/stable/modules/preprocessing.html\n",
      "Please also refer to the documentation for alternative solver options:\n",
      "    https://scikit-learn.org/stable/modules/linear_model.html#logistic-regression\n",
      "  extra_warning_msg=_LOGISTIC_SOLVER_CONVERGENCE_MSG)\n"
     ]
    },
    {
     "name": "stdout",
     "output_type": "stream",
     "text": [
      "theta 0 : [0.]\n",
      "theta 1 : [ 0.00000000e+00 -1.35018403e+00 -3.62872302e-01 -1.61529115e-01\n",
      "  5.94160085e+00  0.00000000e+00  0.00000000e+00  0.00000000e+00\n",
      "  0.00000000e+00  1.76320308e-01  1.20093283e-02 -3.62903599e-02\n",
      "  3.32842485e-01  6.09644537e-01  0.00000000e+00  2.47291066e-01\n",
      " -2.10187383e-01 -7.04752993e-06  2.07492857e-03  3.56851768e-03\n",
      "  1.75113023e-02  1.02104078e-02  1.24424227e-04 -6.46046924e-03\n",
      " -3.32780143e-03 -5.83175720e-02  2.02920879e-01  7.77363491e-02\n",
      "  2.55479959e-02  1.82827158e-02  3.71179802e+00 -1.85549288e+00\n",
      "  0.00000000e+00 -4.28933202e-01  0.00000000e+00 -3.66037366e+00\n",
      " -9.56974011e-01 -7.45082855e-01  0.00000000e+00 -1.90137247e-01\n",
      " -4.29085341e-01  9.39975101e-02  4.61094748e-02 -1.35763952e-02\n",
      " -1.90310465e-03]\n"
     ]
    },
    {
     "data": {
      "text/plain": [
       "<matplotlib.legend.Legend at 0x11a749610>"
      ]
     },
     "execution_count": 77,
     "metadata": {},
     "output_type": "execute_result"
    },
    {
     "data": {
      "image/png": "[encoded data removed]",
      "text/plain": [
       "<Figure size 432x288 with 1 Axes>"
      ]
     },
     "metadata": {
      "needs_background": "light"
     },
     "output_type": "display_data"
    }
   ],
   "source": [
    "from sklearn.model_selection import train_test_split\n",
    "from sklearn.preprocessing import PolynomialFeatures\n",
    "\n",
    "X, X_test, y, y_test = train_test_split(X, y, test_size=0.33, random_state=42)\n",
    "\n",
    "modelLogReg = LogisticRegression(penalty='l2', solver='lbfgs', C=5, max_iter=1000).fit(X, y)\n",
    "fpr, tpr, _ = roc_curve(y_test, modelLogReg.decision_function(X_test))\n",
    "plt.plot(fpr, tpr, label=\"LogReg c=5\")\n",
    "\n",
    "modelLogReg = LogisticRegression(penalty='l2', solver='lbfgs', C=1, max_iter=1000).fit(X, y)\n",
    "fpr, tpr, _ = roc_curve(y_test, modelLogReg.decision_function(X_test))\n",
    "plt.plot(fpr, tpr, label=\"LogReg c=1\")\n",
    "\n",
    "modelLogReg = LogisticRegression(penalty='l2', solver='lbfgs', C=0.1, max_iter=1000).fit(X, y)\n",
    "fpr, tpr, _ = roc_curve(y_test, modelLogReg.decision_function(X_test))\n",
    "plt.plot(fpr, tpr, label=\"LogReg c=0.1\")\n",
    "\n",
    "Xpoly = PolynomialFeatures(2).fit_transform(X)\n",
    "Xpoly_test = PolynomialFeatures(2).fit_transform(X_test)\n",
    "\n",
    "modelLogReg = LogisticRegression(penalty='l2', solver='lbfgs', C=0.1, max_iter=1000).fit(Xpoly, y)\n",
    "fpr, tpr, _ = roc_curve(y_test, modelLogReg.decision_function(Xpoly_test))\n",
    "plt.plot(fpr, tpr, label=\"LogReg c=0.1 xpoly=2\")\n",
    "\n",
    "modelLogReg = LogisticRegression(penalty='l1', solver='liblinear', C=4, max_iter=1000).fit(Xpoly, y)\n",
    "fpr, tpr, _ = roc_curve(y_test, modelLogReg.decision_function(Xpoly_test))\n",
    "plt.plot(fpr, tpr, label=\"LogReg l1 xpoly=2\")\n",
    "\n",
    "def printThetas(intercept ,coef):\n",
    "    print(\"theta\", 0, \":\", intercept)\n",
    "    for i in range(len(coef)):\n",
    "        print(\"theta\", i+1, \":\", coef[i])\n",
    "\n",
    "printThetas(modelLogReg.intercept_, modelLogReg.coef_)\n",
    "\n",
    "plt.xlabel(\"False Positive Rate\")\n",
    "plt.ylabel(\"True Positive Rate\")\n",
    "plt.legend()"
   ]
  },
  {
   "cell_type": "code",
   "execution_count": 78,
   "metadata": {},
   "outputs": [
    {
     "data": {
      "text/plain": [
       "0.7952167414050823"
      ]
     },
     "execution_count": 78,
     "metadata": {},
     "output_type": "execute_result"
    }
   ],
   "source": [
    "from sklearn.metrics import f1_score\n",
    "y_pred = modelLogReg.predict(Xpoly_test)\n",
    "f1_score(y_test,y_pred)"
   ]
  }
 ],
 "metadata": {
  "kernelspec": {
   "display_name": "Python 3",
   "language": "python",
   "name": "python3"
  },
  "language_info": {
   "codemirror_mode": {
    "name": "ipython",
    "version": 3
   },
   "file_extension": ".py",
   "mimetype": "text/x-python",
   "name": "python",
   "nbconvert_exporter": "python",
   "pygments_lexer": "ipython3",
   "version": "3.7.6"
  }
 },
 "nbformat": 4,
 "nbformat_minor": 4
}
