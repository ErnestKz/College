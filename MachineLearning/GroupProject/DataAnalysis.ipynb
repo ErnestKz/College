{
 "cells": [
  {
   "cell_type": "code",
   "execution_count": 18,
   "metadata": {},
   "outputs": [],
   "source": [
    "import numpy as np\n",
    "import pandas as pd\n",
    "import matplotlib.pyplot as plt "
   ]
  },
  {
   "cell_type": "code",
   "execution_count": 19,
   "metadata": {},
   "outputs": [],
   "source": [
    "df = pd.read_csv(\"./dataset/listings.csv\")\n",
    "df['host_response_rate'] = df['host_response_rate'].str.rstrip('%').astype('float') / 100.0\n",
    "df['host_acceptance_rate'] = df['host_acceptance_rate'].str.rstrip('%').astype('float') / 100.0"
   ]
  },
  {
   "cell_type": "code",
   "execution_count": 20,
   "metadata": {},
   "outputs": [],
   "source": [
    "columns = [\n",
    "    \"review_scores_value\",\n",
    "    \"number_of_reviews\",\n",
    "    \"review_scores_rating\",\n",
    "    \"host_response_rate\",\n",
    "    \"host_acceptance_rate\",\n",
    "    \"review_scores_accuracy\",\n",
    "    \"review_scores_cleanliness\",\n",
    "    \"review_scores_checkin\",\n",
    "    \"host_is_superhost\",\n",
    "   #  \"host_since\",\n",
    "]\n"
   ]
  },
  {
   "cell_type": "code",
   "execution_count": 21,
   "metadata": {},
   "outputs": [],
   "source": [
    "df = df[columns]"
   ]
  },
  {
   "cell_type": "code",
   "execution_count": 22,
   "metadata": {},
   "outputs": [],
   "source": [
    "X = df.dropna()\n",
    "\n",
    "y = X[\"host_is_superhost\"]\n",
    "y = y.to_numpy()\n",
    "tf = lambda t: 1 if t == 't' else 0;\n",
    "y = np.array([tf(xi) for xi in y])\n",
    "\n",
    "X = X.drop(\"host_is_superhost\", axis=1)"
   ]
  },
  {
   "cell_type": "code",
   "execution_count": 23,
   "metadata": {},
   "outputs": [
    {
     "data": {
      "text/plain": [
       "array([1, 1, 0, ..., 0, 0, 0])"
      ]
     },
     "execution_count": 23,
     "metadata": {},
     "output_type": "execute_result"
    }
   ],
   "source": [
    "y"
   ]
  },
  {
   "cell_type": "code",
   "execution_count": 24,
   "metadata": {},
   "outputs": [
    {
     "data": {
      "text/html": [
       "<div>\n",
       "<style scoped>\n",
       "    .dataframe tbody tr th:only-of-type {\n",
       "        vertical-align: middle;\n",
       "    }\n",
       "\n",
       "    .dataframe tbody tr th {\n",
       "        vertical-align: top;\n",
       "    }\n",
       "\n",
       "    .dataframe thead th {\n",
       "        text-align: right;\n",
       "    }\n",
       "</style>\n",
       "<table border=\"1\" class=\"dataframe\">\n",
       "  <thead>\n",
       "    <tr style=\"text-align: right;\">\n",
       "      <th></th>\n",
       "      <th>review_scores_value</th>\n",
       "      <th>number_of_reviews</th>\n",
       "      <th>review_scores_rating</th>\n",
       "      <th>host_response_rate</th>\n",
       "      <th>host_acceptance_rate</th>\n",
       "      <th>review_scores_accuracy</th>\n",
       "      <th>review_scores_cleanliness</th>\n",
       "      <th>review_scores_checkin</th>\n",
       "    </tr>\n",
       "  </thead>\n",
       "  <tbody>\n",
       "    <tr>\n",
       "      <th>0</th>\n",
       "      <td>10.0</td>\n",
       "      <td>227</td>\n",
       "      <td>95.0</td>\n",
       "      <td>1.00</td>\n",
       "      <td>1.00</td>\n",
       "      <td>10.0</td>\n",
       "      <td>10.0</td>\n",
       "      <td>10.0</td>\n",
       "    </tr>\n",
       "    <tr>\n",
       "      <th>2</th>\n",
       "      <td>10.0</td>\n",
       "      <td>182</td>\n",
       "      <td>96.0</td>\n",
       "      <td>1.00</td>\n",
       "      <td>1.00</td>\n",
       "      <td>10.0</td>\n",
       "      <td>9.0</td>\n",
       "      <td>10.0</td>\n",
       "    </tr>\n",
       "    <tr>\n",
       "      <th>3</th>\n",
       "      <td>9.0</td>\n",
       "      <td>110</td>\n",
       "      <td>94.0</td>\n",
       "      <td>0.50</td>\n",
       "      <td>0.69</td>\n",
       "      <td>9.0</td>\n",
       "      <td>9.0</td>\n",
       "      <td>10.0</td>\n",
       "    </tr>\n",
       "    <tr>\n",
       "      <th>5</th>\n",
       "      <td>10.0</td>\n",
       "      <td>289</td>\n",
       "      <td>97.0</td>\n",
       "      <td>1.00</td>\n",
       "      <td>1.00</td>\n",
       "      <td>10.0</td>\n",
       "      <td>10.0</td>\n",
       "      <td>10.0</td>\n",
       "    </tr>\n",
       "    <tr>\n",
       "      <th>6</th>\n",
       "      <td>9.0</td>\n",
       "      <td>43</td>\n",
       "      <td>90.0</td>\n",
       "      <td>1.00</td>\n",
       "      <td>0.58</td>\n",
       "      <td>10.0</td>\n",
       "      <td>9.0</td>\n",
       "      <td>10.0</td>\n",
       "    </tr>\n",
       "    <tr>\n",
       "      <th>...</th>\n",
       "      <td>...</td>\n",
       "      <td>...</td>\n",
       "      <td>...</td>\n",
       "      <td>...</td>\n",
       "      <td>...</td>\n",
       "      <td>...</td>\n",
       "      <td>...</td>\n",
       "      <td>...</td>\n",
       "    </tr>\n",
       "    <tr>\n",
       "      <th>7891</th>\n",
       "      <td>8.0</td>\n",
       "      <td>1</td>\n",
       "      <td>80.0</td>\n",
       "      <td>0.89</td>\n",
       "      <td>0.89</td>\n",
       "      <td>8.0</td>\n",
       "      <td>8.0</td>\n",
       "      <td>10.0</td>\n",
       "    </tr>\n",
       "    <tr>\n",
       "      <th>7902</th>\n",
       "      <td>10.0</td>\n",
       "      <td>1</td>\n",
       "      <td>100.0</td>\n",
       "      <td>1.00</td>\n",
       "      <td>1.00</td>\n",
       "      <td>10.0</td>\n",
       "      <td>10.0</td>\n",
       "      <td>10.0</td>\n",
       "    </tr>\n",
       "    <tr>\n",
       "      <th>7903</th>\n",
       "      <td>8.0</td>\n",
       "      <td>3</td>\n",
       "      <td>73.0</td>\n",
       "      <td>1.00</td>\n",
       "      <td>1.00</td>\n",
       "      <td>7.0</td>\n",
       "      <td>7.0</td>\n",
       "      <td>8.0</td>\n",
       "    </tr>\n",
       "    <tr>\n",
       "      <th>7907</th>\n",
       "      <td>10.0</td>\n",
       "      <td>1</td>\n",
       "      <td>100.0</td>\n",
       "      <td>1.00</td>\n",
       "      <td>1.00</td>\n",
       "      <td>10.0</td>\n",
       "      <td>10.0</td>\n",
       "      <td>10.0</td>\n",
       "    </tr>\n",
       "    <tr>\n",
       "      <th>7912</th>\n",
       "      <td>10.0</td>\n",
       "      <td>1</td>\n",
       "      <td>100.0</td>\n",
       "      <td>0.96</td>\n",
       "      <td>0.86</td>\n",
       "      <td>10.0</td>\n",
       "      <td>10.0</td>\n",
       "      <td>10.0</td>\n",
       "    </tr>\n",
       "  </tbody>\n",
       "</table>\n",
       "<p>2674 rows × 8 columns</p>\n",
       "</div>"
      ],
      "text/plain": [
       "      review_scores_value  number_of_reviews  review_scores_rating  \\\n",
       "0                    10.0                227                  95.0   \n",
       "2                    10.0                182                  96.0   \n",
       "3                     9.0                110                  94.0   \n",
       "5                    10.0                289                  97.0   \n",
       "6                     9.0                 43                  90.0   \n",
       "...                   ...                ...                   ...   \n",
       "7891                  8.0                  1                  80.0   \n",
       "7902                 10.0                  1                 100.0   \n",
       "7903                  8.0                  3                  73.0   \n",
       "7907                 10.0                  1                 100.0   \n",
       "7912                 10.0                  1                 100.0   \n",
       "\n",
       "      host_response_rate  host_acceptance_rate  review_scores_accuracy  \\\n",
       "0                   1.00                  1.00                    10.0   \n",
       "2                   1.00                  1.00                    10.0   \n",
       "3                   0.50                  0.69                     9.0   \n",
       "5                   1.00                  1.00                    10.0   \n",
       "6                   1.00                  0.58                    10.0   \n",
       "...                  ...                   ...                     ...   \n",
       "7891                0.89                  0.89                     8.0   \n",
       "7902                1.00                  1.00                    10.0   \n",
       "7903                1.00                  1.00                     7.0   \n",
       "7907                1.00                  1.00                    10.0   \n",
       "7912                0.96                  0.86                    10.0   \n",
       "\n",
       "      review_scores_cleanliness  review_scores_checkin  \n",
       "0                          10.0                   10.0  \n",
       "2                           9.0                   10.0  \n",
       "3                           9.0                   10.0  \n",
       "5                          10.0                   10.0  \n",
       "6                           9.0                   10.0  \n",
       "...                         ...                    ...  \n",
       "7891                        8.0                   10.0  \n",
       "7902                       10.0                   10.0  \n",
       "7903                        7.0                    8.0  \n",
       "7907                       10.0                   10.0  \n",
       "7912                       10.0                   10.0  \n",
       "\n",
       "[2674 rows x 8 columns]"
      ]
     },
     "execution_count": 24,
     "metadata": {},
     "output_type": "execute_result"
    }
   ],
   "source": [
    "X"
   ]
  },
  {
   "cell_type": "code",
   "execution_count": 25,
   "metadata": {},
   "outputs": [
    {
     "name": "stderr",
     "output_type": "stream",
     "text": [
      "/Users/ek/.pyenv/versions/3.7.6/lib/python3.7/site-packages/sklearn/linear_model/_logistic.py:764: ConvergenceWarning: lbfgs failed to converge (status=1):\n",
      "STOP: TOTAL NO. of ITERATIONS REACHED LIMIT.\n",
      "\n",
      "Increase the number of iterations (max_iter) or scale the data as shown in:\n",
      "    https://scikit-learn.org/stable/modules/preprocessing.html\n",
      "Please also refer to the documentation for alternative solver options:\n",
      "    https://scikit-learn.org/stable/modules/linear_model.html#logistic-regression\n",
      "  extra_warning_msg=_LOGISTIC_SOLVER_CONVERGENCE_MSG)\n"
     ]
    }
   ],
   "source": [
    "from sklearn.linear_model import LogisticRegression\n",
    "modelLogReg = LogisticRegression(penalty='l2', solver='lbfgs', C=5, max_iter=1000).fit(X, y)"
   ]
  },
  {
   "cell_type": "markdown",
   "metadata": {},
   "source": [
    "Top left: True Negatives.   \n",
    "Bottom left: False Negatives   \n",
    "\n",
    "Top right: False Positives   \n",
    "Bottom right: True Positives"
   ]
  },
  {
   "cell_type": "code",
   "execution_count": 26,
   "metadata": {},
   "outputs": [
    {
     "name": "stdout",
     "output_type": "stream",
     "text": [
      "[[1417  311]\n",
      " [ 340  606]]\n"
     ]
    }
   ],
   "source": [
    "from sklearn.metrics import confusion_matrix\n",
    "print(confusion_matrix(y, modelLogReg.predict(X)))"
   ]
  },
  {
   "cell_type": "code",
   "execution_count": 27,
   "metadata": {},
   "outputs": [
    {
     "name": "stdout",
     "output_type": "stream",
     "text": [
      "[[845 883]\n",
      " [475 471]]\n"
     ]
    }
   ],
   "source": [
    "f = lambda x: 0 if x < 0.5 else 1\n",
    "baselineYpred = [f(y) for y in np.random.rand(y.shape[0])]\n",
    "cm = confusion_matrix(y, baselineYpred)\n",
    "print(cm)"
   ]
  },
  {
   "cell_type": "code",
   "execution_count": 28,
   "metadata": {},
   "outputs": [
    {
     "data": {
      "text/plain": [
       "<matplotlib.legend.Legend at 0x12f4ff290>"
      ]
     },
     "execution_count": 28,
     "metadata": {},
     "output_type": "execute_result"
    },
    {
     "data": {
      "image/png": "[encoded data removed]",
      "text/plain": [
       "<Figure size 432x288 with 1 Axes>"
      ]
     },
     "metadata": {
      "needs_background": "light"
     },
     "output_type": "display_data"
    }
   ],
   "source": [
    "from sklearn.metrics import roc_curve\n",
    "fpr, tpr, _ = roc_curve(y, modelLogReg.decision_function(X))\n",
    "plt.plot(fpr, tpr, label=\"LogReg\")\n",
    "\n",
    "fpr = cm[0,1] / (cm[0,0]+ cm[0,1]) # false positive rate = FP/ TN + FP\n",
    "tpr = cm[1,1] / (cm[1,1]+ cm[1,0]) # true positive rate = TP / TP + FN\n",
    "plt.scatter(fpr, tpr, label=\"baseline\")\n",
    "\n",
    "plt.xlabel(\"False Positive Rate\")\n",
    "plt.ylabel(\"True Positive Rate\")\n",
    "plt.legend()"
   ]
  },
  {
   "cell_type": "code",
   "execution_count": 29,
   "metadata": {},
   "outputs": [
    {
     "name": "stderr",
     "output_type": "stream",
     "text": [
      "/Users/ek/.pyenv/versions/3.7.6/lib/python3.7/site-packages/sklearn/linear_model/_logistic.py:764: ConvergenceWarning: lbfgs failed to converge (status=1):\n",
      "STOP: TOTAL NO. of ITERATIONS REACHED LIMIT.\n",
      "\n",
      "Increase the number of iterations (max_iter) or scale the data as shown in:\n",
      "    https://scikit-learn.org/stable/modules/preprocessing.html\n",
      "Please also refer to the documentation for alternative solver options:\n",
      "    https://scikit-learn.org/stable/modules/linear_model.html#logistic-regression\n",
      "  extra_warning_msg=_LOGISTIC_SOLVER_CONVERGENCE_MSG)\n"
     ]
    },
    {
     "name": "stdout",
     "output_type": "stream",
     "text": [
      "theta 0 : [0.]\n",
      "theta 1 : [ 0.00000000e+00 -1.34833873e+00 -3.48405585e-01 -1.07590778e-02\n",
      "  3.99640948e+00  0.00000000e+00 -2.10097328e+00  0.00000000e+00\n",
      "  0.00000000e+00 -6.53725325e-02  5.88803384e-03 -3.57251258e-02\n",
      "  4.81652105e-01  5.94385256e-01  4.05114759e-01  3.18534536e-01\n",
      " -2.08101312e-01 -2.95315575e-05  2.54712350e-03  5.35528265e-03\n",
      "  2.17450755e-02  1.44886923e-02 -1.29406426e-03 -9.31773577e-03\n",
      " -6.16093486e-03 -5.60663840e-02  2.66874738e-01  9.66791867e-02\n",
      " -2.21323964e-03  5.31536593e-02  6.01420541e+00 -1.53390732e+00\n",
      " -1.45686550e+00  0.00000000e+00  7.71442001e-01 -3.93629894e+00\n",
      "  0.00000000e+00 -8.06067419e-01 -1.57017658e+00 -2.30087598e-01\n",
      " -2.86160347e-01 -2.48951133e-01  1.73712642e-01 -2.15119810e-01\n",
      "  1.52330408e-01]\n"
     ]
    },
    {
     "data": {
      "text/plain": [
       "<matplotlib.legend.Legend at 0x12ff1c910>"
      ]
     },
     "execution_count": 29,
     "metadata": {},
     "output_type": "execute_result"
    },
    {
     "data": {
      "image/png": "[encoded data removed]",
      "text/plain": [
       "<Figure size 432x288 with 1 Axes>"
      ]
     },
     "metadata": {
      "needs_background": "light"
     },
     "output_type": "display_data"
    }
   ],
   "source": [
    "from sklearn.model_selection import train_test_split\n",
    "from sklearn.preprocessing import PolynomialFeatures\n",
    "\n",
    "X, X_test, y, y_test = train_test_split(X, y, test_size=0.33, random_state=42)\n",
    "\n",
    "modelLogReg = LogisticRegression(penalty='l2', solver='lbfgs', C=5, max_iter=1000).fit(X, y)\n",
    "fpr, tpr, _ = roc_curve(y_test, modelLogReg.decision_function(X_test))\n",
    "plt.plot(fpr, tpr, label=\"LogReg c=5\")\n",
    "\n",
    "modelLogReg = LogisticRegression(penalty='l2', solver='lbfgs', C=1, max_iter=1000).fit(X, y)\n",
    "fpr, tpr, _ = roc_curve(y_test, modelLogReg.decision_function(X_test))\n",
    "plt.plot(fpr, tpr, label=\"LogReg c=1\")\n",
    "\n",
    "modelLogReg = LogisticRegression(penalty='l2', solver='lbfgs', C=0.1, max_iter=1000).fit(X, y)\n",
    "fpr, tpr, _ = roc_curve(y_test, modelLogReg.decision_function(X_test))\n",
    "plt.plot(fpr, tpr, label=\"LogReg c=0.1\")\n",
    "\n",
    "Xpoly = PolynomialFeatures(2).fit_transform(X)\n",
    "Xpoly_test = PolynomialFeatures(2).fit_transform(X_test)\n",
    "\n",
    "modelLogReg = LogisticRegression(penalty='l2', solver='lbfgs', C=0.1, max_iter=1000).fit(Xpoly, y)\n",
    "fpr, tpr, _ = roc_curve(y_test, modelLogReg.decision_function(Xpoly_test))\n",
    "plt.plot(fpr, tpr, label=\"LogReg c=0.1 xpoly=2\")\n",
    "\n",
    "modelLogReg = LogisticRegression(penalty='l1', solver='liblinear', C=4, max_iter=1000).fit(Xpoly, y)\n",
    "fpr, tpr, _ = roc_curve(y_test, modelLogReg.decision_function(Xpoly_test))\n",
    "plt.plot(fpr, tpr, label=\"LogReg l1 xpoly=2\")\n",
    "\n",
    "def printThetas(intercept ,coef):\n",
    "    print(\"theta\", 0, \":\", intercept)\n",
    "    for i in range(len(coef)):\n",
    "        print(\"theta\", i+1, \":\", coef[i])\n",
    "\n",
    "printThetas(modelLogReg.intercept_, modelLogReg.coef_)\n",
    "\n",
    "plt.xlabel(\"False Positive Rate\")\n",
    "plt.ylabel(\"True Positive Rate\")\n",
    "plt.legend()"
   ]
  },
  {
   "cell_type": "code",
   "execution_count": 30,
   "metadata": {},
   "outputs": [
    {
     "data": {
      "text/plain": [
       "0.6970684039087948"
      ]
     },
     "execution_count": 30,
     "metadata": {},
     "output_type": "execute_result"
    }
   ],
   "source": [
    "from sklearn.metrics import f1_score\n",
    "y_pred = modelLogReg.predict(Xpoly_test)\n",
    "f1_score(y_test,y_pred)"
   ]
  },
  {
   "cell_type": "code",
   "execution_count": null,
   "metadata": {},
   "outputs": [],
   "source": []
  }
 ],
 "metadata": {
  "kernelspec": {
   "display_name": "Python 3",
   "language": "python",
   "name": "python3"
  },
  "language_info": {
   "codemirror_mode": {
    "name": "ipython",
    "version": 3
   },
   "file_extension": ".py",
   "mimetype": "text/x-python",
   "name": "python",
   "nbconvert_exporter": "python",
   "pygments_lexer": "ipython3",
   "version": "3.7.6"
  }
 },
 "nbformat": 4,
 "nbformat_minor": 4
}
