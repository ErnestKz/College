{
 "cells": [
  {
   "cell_type": "code",
   "execution_count": 1,
   "metadata": {},
   "outputs": [],
   "source": [
    "import numpy as np\n",
    "import pandas as pd\n",
    "import matplotlib.pyplot as plt "
   ]
  },
  {
   "cell_type": "code",
   "execution_count": 2,
   "metadata": {},
   "outputs": [],
   "source": [
    "df = pd.read_csv(\"./dataset/listings.csv\")"
   ]
  },
  {
   "cell_type": "code",
   "execution_count": 3,
   "metadata": {},
   "outputs": [
    {
     "data": {
      "text/plain": [
       "Index(['id', 'listing_url', 'scrape_id', 'last_scraped', 'name', 'description',\n",
       "       'neighborhood_overview', 'picture_url', 'host_id', 'host_url',\n",
       "       'host_name', 'host_since', 'host_location', 'host_about',\n",
       "       'host_response_time', 'host_response_rate', 'host_acceptance_rate',\n",
       "       'host_is_superhost', 'host_thumbnail_url', 'host_picture_url',\n",
       "       'host_neighbourhood', 'host_listings_count',\n",
       "       'host_total_listings_count', 'host_verifications',\n",
       "       'host_has_profile_pic', 'host_identity_verified', 'neighbourhood',\n",
       "       'neighbourhood_cleansed', 'neighbourhood_group_cleansed', 'latitude',\n",
       "       'longitude', 'property_type', 'room_type', 'accommodates', 'bathrooms',\n",
       "       'bathrooms_text', 'bedrooms', 'beds', 'amenities', 'price',\n",
       "       'minimum_nights', 'maximum_nights', 'minimum_minimum_nights',\n",
       "       'maximum_minimum_nights', 'minimum_maximum_nights',\n",
       "       'maximum_maximum_nights', 'minimum_nights_avg_ntm',\n",
       "       'maximum_nights_avg_ntm', 'calendar_updated', 'has_availability',\n",
       "       'availability_30', 'availability_60', 'availability_90',\n",
       "       'availability_365', 'calendar_last_scraped', 'number_of_reviews',\n",
       "       'number_of_reviews_ltm', 'number_of_reviews_l30d', 'first_review',\n",
       "       'last_review', 'review_scores_rating', 'review_scores_accuracy',\n",
       "       'review_scores_cleanliness', 'review_scores_checkin',\n",
       "       'review_scores_communication', 'review_scores_location',\n",
       "       'review_scores_value', 'license', 'instant_bookable',\n",
       "       'calculated_host_listings_count',\n",
       "       'calculated_host_listings_count_entire_homes',\n",
       "       'calculated_host_listings_count_private_rooms',\n",
       "       'calculated_host_listings_count_shared_rooms', 'reviews_per_month'],\n",
       "      dtype='object')"
      ]
     },
     "execution_count": 3,
     "metadata": {},
     "output_type": "execute_result"
    }
   ],
   "source": [
    "df.columns"
   ]
  },
  {
   "cell_type": "code",
   "execution_count": 4,
   "metadata": {},
   "outputs": [],
   "source": [
    "columns_numeric = [\n",
    "    \"review_scores_value\",\n",
    "    \"number_of_reviews\",\n",
    "    \"review_scores_rating\",\n",
    "]\n",
    "\n",
    "columns_percentage = [\n",
    "   \"host_response_rate\",\n",
    "   \"host_acceptance_rate\",\n",
    "]\n",
    "\n",
    "columns_date = [\n",
    "    \"host_since\",\n",
    "]\n",
    "\n",
    "\n",
    "X = df[columns_numeric].apply(lambda x: x.fillna(x.mean()),axis=0).to_numpy()\n",
    "\n",
    "y = df[\"host_is_superhost\"]\n",
    "y= y.to_numpy()\n",
    "tf = lambda t: 1 if t == 't' else 0;\n",
    "y = np.array([tf(xi) for xi in y])\n",
    "\n",
    "\n"
   ]
  },
  {
   "cell_type": "code",
   "execution_count": 15,
   "metadata": {},
   "outputs": [],
   "source": [
    "from sklearn.model_selection import KFold\n",
    "from sklearn.metrics import mean_squared_error\n",
    "from sklearn.linear_model import LogisticRegression\n",
    "from sklearn.preprocessing import PolynomialFeatures\n",
    "\n",
    "from sklearn.neighbors import KNeighborsClassifier\n",
    "\n",
    "def kfoldMeanVar(splits, C=1):\n",
    "    model = LogisticRegression(penalty='l1', solver='saga', C=C)\n",
    "    \n",
    "    kf = KFold(n_splits=splits)\n",
    "    meanSquareErrors = []\n",
    "    for train, test in kf.split(X):\n",
    "        model = model.fit(X[train], y[train])\n",
    "        ypred = model.predict(X[test])\n",
    "        mse = mean_squared_error(y[test],ypred)\n",
    "        meanSquareErrors.append(mse)\n",
    "    return np.mean(meanSquareErrors), np.var(meanSquareErrors), np.std(meanSquareErrors)"
   ]
  },
  {
   "cell_type": "code",
   "execution_count": 21,
   "metadata": {},
   "outputs": [
    {
     "name": "stderr",
     "output_type": "stream",
     "text": [
      "/Users/ek/.pyenv/versions/3.7.6/lib/python3.7/site-packages/sklearn/linear_model/_sag.py:330: ConvergenceWarning: The max_iter was reached which means the coef_ did not converge\n",
      "  \"the coef_ did not converge\", ConvergenceWarning)\n",
      "/Users/ek/.pyenv/versions/3.7.6/lib/python3.7/site-packages/sklearn/linear_model/_sag.py:330: ConvergenceWarning: The max_iter was reached which means the coef_ did not converge\n",
      "  \"the coef_ did not converge\", ConvergenceWarning)\n",
      "/Users/ek/.pyenv/versions/3.7.6/lib/python3.7/site-packages/sklearn/linear_model/_sag.py:330: ConvergenceWarning: The max_iter was reached which means the coef_ did not converge\n",
      "  \"the coef_ did not converge\", ConvergenceWarning)\n",
      "/Users/ek/.pyenv/versions/3.7.6/lib/python3.7/site-packages/sklearn/linear_model/_sag.py:330: ConvergenceWarning: The max_iter was reached which means the coef_ did not converge\n",
      "  \"the coef_ did not converge\", ConvergenceWarning)\n",
      "/Users/ek/.pyenv/versions/3.7.6/lib/python3.7/site-packages/sklearn/linear_model/_sag.py:330: ConvergenceWarning: The max_iter was reached which means the coef_ did not converge\n",
      "  \"the coef_ did not converge\", ConvergenceWarning)\n",
      "/Users/ek/.pyenv/versions/3.7.6/lib/python3.7/site-packages/sklearn/linear_model/_sag.py:330: ConvergenceWarning: The max_iter was reached which means the coef_ did not converge\n",
      "  \"the coef_ did not converge\", ConvergenceWarning)\n",
      "/Users/ek/.pyenv/versions/3.7.6/lib/python3.7/site-packages/sklearn/linear_model/_sag.py:330: ConvergenceWarning: The max_iter was reached which means the coef_ did not converge\n",
      "  \"the coef_ did not converge\", ConvergenceWarning)\n",
      "/Users/ek/.pyenv/versions/3.7.6/lib/python3.7/site-packages/sklearn/linear_model/_sag.py:330: ConvergenceWarning: The max_iter was reached which means the coef_ did not converge\n",
      "  \"the coef_ did not converge\", ConvergenceWarning)\n",
      "/Users/ek/.pyenv/versions/3.7.6/lib/python3.7/site-packages/sklearn/linear_model/_sag.py:330: ConvergenceWarning: The max_iter was reached which means the coef_ did not converge\n",
      "  \"the coef_ did not converge\", ConvergenceWarning)\n",
      "/Users/ek/.pyenv/versions/3.7.6/lib/python3.7/site-packages/sklearn/linear_model/_sag.py:330: ConvergenceWarning: The max_iter was reached which means the coef_ did not converge\n",
      "  \"the coef_ did not converge\", ConvergenceWarning)\n",
      "/Users/ek/.pyenv/versions/3.7.6/lib/python3.7/site-packages/sklearn/linear_model/_sag.py:330: ConvergenceWarning: The max_iter was reached which means the coef_ did not converge\n",
      "  \"the coef_ did not converge\", ConvergenceWarning)\n",
      "/Users/ek/.pyenv/versions/3.7.6/lib/python3.7/site-packages/sklearn/linear_model/_sag.py:330: ConvergenceWarning: The max_iter was reached which means the coef_ did not converge\n",
      "  \"the coef_ did not converge\", ConvergenceWarning)\n",
      "/Users/ek/.pyenv/versions/3.7.6/lib/python3.7/site-packages/sklearn/linear_model/_sag.py:330: ConvergenceWarning: The max_iter was reached which means the coef_ did not converge\n",
      "  \"the coef_ did not converge\", ConvergenceWarning)\n",
      "/Users/ek/.pyenv/versions/3.7.6/lib/python3.7/site-packages/sklearn/linear_model/_sag.py:330: ConvergenceWarning: The max_iter was reached which means the coef_ did not converge\n",
      "  \"the coef_ did not converge\", ConvergenceWarning)\n",
      "/Users/ek/.pyenv/versions/3.7.6/lib/python3.7/site-packages/sklearn/linear_model/_sag.py:330: ConvergenceWarning: The max_iter was reached which means the coef_ did not converge\n",
      "  \"the coef_ did not converge\", ConvergenceWarning)\n",
      "/Users/ek/.pyenv/versions/3.7.6/lib/python3.7/site-packages/sklearn/linear_model/_sag.py:330: ConvergenceWarning: The max_iter was reached which means the coef_ did not converge\n",
      "  \"the coef_ did not converge\", ConvergenceWarning)\n"
     ]
    },
    {
     "data": {
      "text/plain": [
       "Text(0, 0.5, 'Mean MSE')"
      ]
     },
     "execution_count": 21,
     "metadata": {},
     "output_type": "execute_result"
    },
    {
     "data": {
      "image/png": "[encoded data removed]",
      "text/plain": [
       "<Figure size 432x288 with 1 Axes>"
      ]
     },
     "metadata": {
      "needs_background": "light"
     },
     "output_type": "display_data"
    }
   ],
   "source": [
    "Cs = [1, 2]\n",
    "meanMSE = []\n",
    "stdMSE = []\n",
    "for C in Cs:\n",
    "    mean, var, std = kfoldMeanVar(8, C)\n",
    "    meanMSE.append(mean)\n",
    "    stdMSE.append(std)\n",
    "\n",
    "plt.errorbar(Cs, meanMSE, stdMSE)\n",
    "plt.xlabel(\"C\") ; plt.ylabel(\"Mean MSE\")"
   ]
  },
  {
   "cell_type": "code",
   "execution_count": 14,
   "metadata": {},
   "outputs": [
    {
     "data": {
      "text/plain": [
       "'100'"
      ]
     },
     "execution_count": 14,
     "metadata": {},
     "output_type": "execute_result"
    }
   ],
   "source": [
    "df[\"host_response_rate\"]\n",
    "df[\"review_scores_value\"]\n",
    "df[\"host_since\"]\n",
    "df[\"number_of_reviews\"]\n",
    "df[\"review_scores_rating\"]\n",
    "df[\"host_acceptance_rate\"][0][:-1]"
   ]
  },
  {
   "cell_type": "code",
   "execution_count": null,
   "metadata": {},
   "outputs": [],
   "source": []
  },
  {
   "cell_type": "markdown",
   "metadata": {},
   "source": [
    "Find out what percentage of indices are NaN for a given column.   \n",
    "If the percentage isn't too bad then fill those NaN's with the average.   \n",
    "Get rid of the rows that have 3 or more NaNs."
   ]
  },
  {
   "cell_type": "code",
   "execution_count": 8,
   "metadata": {},
   "outputs": [
    {
     "data": {
      "text/html": [
       "<div>\n",
       "<style scoped>\n",
       "    .dataframe tbody tr th:only-of-type {\n",
       "        vertical-align: middle;\n",
       "    }\n",
       "\n",
       "    .dataframe tbody tr th {\n",
       "        vertical-align: top;\n",
       "    }\n",
       "\n",
       "    .dataframe thead th {\n",
       "        text-align: right;\n",
       "    }\n",
       "</style>\n",
       "<table border=\"1\" class=\"dataframe\">\n",
       "  <thead>\n",
       "    <tr style=\"text-align: right;\">\n",
       "      <th></th>\n",
       "      <th>host_response_rate</th>\n",
       "      <th>host_acceptance_rate</th>\n",
       "      <th>review_scores_value</th>\n",
       "      <th>host_since</th>\n",
       "      <th>number_of_reviews</th>\n",
       "      <th>review_scores_rating</th>\n",
       "    </tr>\n",
       "  </thead>\n",
       "  <tbody>\n",
       "    <tr>\n",
       "      <th>0</th>\n",
       "      <td>100%</td>\n",
       "      <td>100%</td>\n",
       "      <td>10.0</td>\n",
       "      <td>2010-08-06</td>\n",
       "      <td>227</td>\n",
       "      <td>95.0</td>\n",
       "    </tr>\n",
       "    <tr>\n",
       "      <th>1</th>\n",
       "      <td>NaN</td>\n",
       "      <td>NaN</td>\n",
       "      <td>NaN</td>\n",
       "      <td>2011-03-27</td>\n",
       "      <td>1</td>\n",
       "      <td>NaN</td>\n",
       "    </tr>\n",
       "    <tr>\n",
       "      <th>2</th>\n",
       "      <td>100%</td>\n",
       "      <td>100%</td>\n",
       "      <td>10.0</td>\n",
       "      <td>2010-08-06</td>\n",
       "      <td>182</td>\n",
       "      <td>96.0</td>\n",
       "    </tr>\n",
       "    <tr>\n",
       "      <th>3</th>\n",
       "      <td>50%</td>\n",
       "      <td>69%</td>\n",
       "      <td>9.0</td>\n",
       "      <td>2011-05-20</td>\n",
       "      <td>110</td>\n",
       "      <td>94.0</td>\n",
       "    </tr>\n",
       "    <tr>\n",
       "      <th>4</th>\n",
       "      <td>NaN</td>\n",
       "      <td>100%</td>\n",
       "      <td>10.0</td>\n",
       "      <td>2011-07-01</td>\n",
       "      <td>311</td>\n",
       "      <td>95.0</td>\n",
       "    </tr>\n",
       "    <tr>\n",
       "      <th>...</th>\n",
       "      <td>...</td>\n",
       "      <td>...</td>\n",
       "      <td>...</td>\n",
       "      <td>...</td>\n",
       "      <td>...</td>\n",
       "      <td>...</td>\n",
       "    </tr>\n",
       "    <tr>\n",
       "      <th>7960</th>\n",
       "      <td>NaN</td>\n",
       "      <td>100%</td>\n",
       "      <td>NaN</td>\n",
       "      <td>2020-10-13</td>\n",
       "      <td>0</td>\n",
       "      <td>NaN</td>\n",
       "    </tr>\n",
       "    <tr>\n",
       "      <th>7961</th>\n",
       "      <td>100%</td>\n",
       "      <td>81%</td>\n",
       "      <td>NaN</td>\n",
       "      <td>2014-05-19</td>\n",
       "      <td>0</td>\n",
       "      <td>NaN</td>\n",
       "    </tr>\n",
       "    <tr>\n",
       "      <th>7962</th>\n",
       "      <td>NaN</td>\n",
       "      <td>NaN</td>\n",
       "      <td>NaN</td>\n",
       "      <td>2020-02-01</td>\n",
       "      <td>0</td>\n",
       "      <td>NaN</td>\n",
       "    </tr>\n",
       "    <tr>\n",
       "      <th>7963</th>\n",
       "      <td>NaN</td>\n",
       "      <td>NaN</td>\n",
       "      <td>NaN</td>\n",
       "      <td>2015-05-10</td>\n",
       "      <td>0</td>\n",
       "      <td>NaN</td>\n",
       "    </tr>\n",
       "    <tr>\n",
       "      <th>7964</th>\n",
       "      <td>NaN</td>\n",
       "      <td>NaN</td>\n",
       "      <td>NaN</td>\n",
       "      <td>2015-08-21</td>\n",
       "      <td>0</td>\n",
       "      <td>NaN</td>\n",
       "    </tr>\n",
       "  </tbody>\n",
       "</table>\n",
       "<p>7965 rows × 6 columns</p>\n",
       "</div>"
      ],
      "text/plain": [
       "     host_response_rate host_acceptance_rate  review_scores_value  host_since  \\\n",
       "0                  100%                 100%                 10.0  2010-08-06   \n",
       "1                   NaN                  NaN                  NaN  2011-03-27   \n",
       "2                  100%                 100%                 10.0  2010-08-06   \n",
       "3                   50%                  69%                  9.0  2011-05-20   \n",
       "4                   NaN                 100%                 10.0  2011-07-01   \n",
       "...                 ...                  ...                  ...         ...   \n",
       "7960                NaN                 100%                  NaN  2020-10-13   \n",
       "7961               100%                  81%                  NaN  2014-05-19   \n",
       "7962                NaN                  NaN                  NaN  2020-02-01   \n",
       "7963                NaN                  NaN                  NaN  2015-05-10   \n",
       "7964                NaN                  NaN                  NaN  2015-08-21   \n",
       "\n",
       "      number_of_reviews  review_scores_rating  \n",
       "0                   227                  95.0  \n",
       "1                     1                   NaN  \n",
       "2                   182                  96.0  \n",
       "3                   110                  94.0  \n",
       "4                   311                  95.0  \n",
       "...                 ...                   ...  \n",
       "7960                  0                   NaN  \n",
       "7961                  0                   NaN  \n",
       "7962                  0                   NaN  \n",
       "7963                  0                   NaN  \n",
       "7964                  0                   NaN  \n",
       "\n",
       "[7965 rows x 6 columns]"
      ]
     },
     "execution_count": 8,
     "metadata": {},
     "output_type": "execute_result"
    }
   ],
   "source": [
    "z"
   ]
  },
  {
   "cell_type": "code",
   "execution_count": 10,
   "metadata": {},
   "outputs": [
    {
     "name": "stdout",
     "output_type": "stream",
     "text": [
      "count     3248\n",
      "unique      45\n",
      "top       100%\n",
      "freq      2217\n",
      "Name: host_response_rate, dtype: object\n",
      "count     4566\n",
      "unique      85\n",
      "top       100%\n",
      "freq      1709\n",
      "Name: host_acceptance_rate, dtype: object\n",
      "count    6337.000000\n",
      "mean        9.269055\n",
      "std         0.912029\n",
      "min         2.000000\n",
      "25%         9.000000\n",
      "50%         9.000000\n",
      "75%        10.000000\n",
      "max        10.000000\n",
      "Name: review_scores_value, dtype: float64\n",
      "count           7965\n",
      "unique          2401\n",
      "top       2017-11-28\n",
      "freq              50\n",
      "Name: host_since, dtype: object\n",
      "count    7965.000000\n",
      "mean       33.350282\n",
      "std        62.514644\n",
      "min         0.000000\n",
      "25%         1.000000\n",
      "50%         7.000000\n",
      "75%        35.000000\n",
      "max       688.000000\n",
      "Name: number_of_reviews, dtype: float64\n",
      "count    6351.000000\n",
      "mean       93.556448\n",
      "std         8.573880\n",
      "min        20.000000\n",
      "25%        91.000000\n",
      "50%        96.000000\n",
      "75%       100.000000\n",
      "max       100.000000\n",
      "Name: review_scores_rating, dtype: float64\n"
     ]
    }
   ],
   "source": [
    "print(df[\"host_response_rate\"].describe())\n",
    "print(df[\"host_acceptance_rate\"].describe())\n",
    "print(df[\"review_scores_value\"].describe())\n",
    "print(df[\"host_since\"].describe())\n",
    "print(df[\"number_of_reviews\"].describe())\n",
    "print(df[\"review_scores_rating\"].describe())"
   ]
  },
  {
   "cell_type": "code",
   "execution_count": 16,
   "metadata": {},
   "outputs": [
    {
     "data": {
      "text/plain": [
       "array([1, 0, 1, ..., 0, 0, 0])"
      ]
     },
     "execution_count": 16,
     "metadata": {},
     "output_type": "execute_result"
    }
   ],
   "source": [
    "tf = lambda t: 1 if t == 't' else 0;\n",
    "y = df[\"host_is_superhost\"]\n",
    "y= y.to_numpy()\n",
    "y = np.array([tf(xi) for xi in y])\n",
    "y"
   ]
  },
  {
   "cell_type": "code",
   "execution_count": 17,
   "metadata": {},
   "outputs": [
    {
     "data": {
      "text/plain": [
       "Text(0.5, 0, 'y')"
      ]
     },
     "execution_count": 17,
     "metadata": {},
     "output_type": "execute_result"
    },
    {
     "data": {
      "image/png": "[encoded data removed]",
      "text/plain": [
       "<Figure size 432x288 with 1 Axes>"
      ]
     },
     "metadata": {
      "needs_background": "light"
     },
     "output_type": "display_data"
    }
   ],
   "source": [
    "fig = plt.figure()\n",
    "ax = fig.add_subplot(111, projection='3d')\n",
    "ax.scatter(x, x2, y)\n",
    "ax.set_xlabel('Number of Reviews')\n",
    "ax.set_ylabel('Scores Value')\n",
    "ax.set_zlabel('y')"
   ]
  }
 ],
 "metadata": {
  "kernelspec": {
   "display_name": "Python 3",
   "language": "python",
   "name": "python3"
  },
  "language_info": {
   "codemirror_mode": {
    "name": "ipython",
    "version": 3
   },
   "file_extension": ".py",
   "mimetype": "text/x-python",
   "name": "python",
   "nbconvert_exporter": "python",
   "pygments_lexer": "ipython3",
   "version": "3.7.6"
  }
 },
 "nbformat": 4,
 "nbformat_minor": 4
}
